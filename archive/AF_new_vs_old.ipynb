{
 "cells": [
  {
   "cell_type": "code",
   "execution_count": null,
   "id": "cb9aa8b9",
   "metadata": {},
   "outputs": [],
   "source": []
  },
  {
   "cell_type": "markdown",
   "id": "f1024425",
   "metadata": {},
   "source": [
    "## New AF pipeline compare  <a class='anchor' id='new_AF'></a>\n",
    "This part will comapre the amount of variant when using the AF from the new pipeline <br>\n",
    "\n",
    "the class 'GnomAD_df_new_af' is same as GnomAD_df, only it uses the new generated AF for the filteration. <br> the table still contains the old AF.\n",
    "\n",
    "\n"
   ]
  },
  {
   "cell_type": "code",
   "execution_count": 1,
   "id": "3d943f73",
   "metadata": {},
   "outputs": [],
   "source": [
    "\n",
    "import sys\n",
    "import os\n",
    "sys.path.append(os.path.abspath(\"code\"))\n",
    "import matplotlib.pyplot as plt\n",
    "import pandas as pd\n",
    "import seaborn as sns\n",
    "# from GnomAD_df_class_NEW_AF import GnomAD_df_new_af\n",
    "# from GnomAD_df_class import GnomAD_df\n",
    "AF_t = 0.1\n",
    "DP_t = 10"
   ]
  },
  {
   "cell_type": "code",
   "execution_count": 2,
   "id": "b8ab8dbb",
   "metadata": {},
   "outputs": [
    {
     "ename": "NameError",
     "evalue": "name 'GnomAD_df_new_af' is not defined",
     "output_type": "error",
     "traceback": [
      "\u001b[0;31m---------------------------------------------------------------------------\u001b[0m",
      "\u001b[0;31mNameError\u001b[0m                                 Traceback (most recent call last)",
      "\u001b[0;32m/tmp/ipykernel_18097/773898072.py\u001b[0m in \u001b[0;36m<module>\u001b[0;34m\u001b[0m\n\u001b[0;32m----> 1\u001b[0;31m gdf =  GnomAD_df_new_af('data/main_new_AF.prq',\n\u001b[0m\u001b[1;32m      2\u001b[0m                 \u001b[0mpeak_file\u001b[0m\u001b[0;34m=\u001b[0m\u001b[0;34m'data/hATAC_mATAC_peak.bed.gz'\u001b[0m\u001b[0;34m,\u001b[0m\u001b[0;34m\u001b[0m\u001b[0;34m\u001b[0m\u001b[0m\n\u001b[1;32m      3\u001b[0m                 \u001b[0mremove_unkown\u001b[0m\u001b[0;34m=\u001b[0m\u001b[0;32mTrue\u001b[0m\u001b[0;34m,\u001b[0m\u001b[0;34m\u001b[0m\u001b[0;34m\u001b[0m\u001b[0m\n\u001b[1;32m      4\u001b[0m                 \u001b[0mremove_phased_gt\u001b[0m\u001b[0;34m=\u001b[0m\u001b[0;32mTrue\u001b[0m\u001b[0;34m,\u001b[0m\u001b[0;34m\u001b[0m\u001b[0;34m\u001b[0m\u001b[0m\n\u001b[1;32m      5\u001b[0m                 only_peak_variants=False)\n",
      "\u001b[0;31mNameError\u001b[0m: name 'GnomAD_df_new_af' is not defined"
     ]
    }
   ],
   "source": [
    "\n",
    "gdf =  GnomAD_df_new_af('data/main_new_AF.prq',\n",
    "                peak_file='data/hATAC_mATAC_peak.bed.gz',\n",
    "                remove_unkown=True,\n",
    "                remove_phased_gt=True,\n",
    "                only_peak_variants=False)"
   ]
  },
  {
   "cell_type": "code",
   "execution_count": 3,
   "id": "0123180e",
   "metadata": {},
   "outputs": [
    {
     "name": "stdout",
     "output_type": "stream",
     "text": [
      "removed unkwon genotypes (e.g \"./.\")\n",
      "replaced phased genotype (e.g \"0|1\" -> \"0/1\")\n",
      "done\n",
      "removed unkwon genotypes (e.g \"./.\")\n",
      "replaced phased genotype (e.g \"0|1\" -> \"0/1\")\n",
      "removing variants outside of peak interval\n",
      "done\n",
      "removed unkwon genotypes (e.g \"./.\")\n",
      "replaced phased genotype (e.g \"0|1\" -> \"0/1\")\n",
      "removing variants outside of peak interval\n",
      "Removing variants with allele frequency above 0.1\n",
      "done\n",
      "removed unkwon genotypes (e.g \"./.\")\n",
      "replaced phased genotype (e.g \"0|1\" -> \"0/1\")\n",
      "removing variants outside of peak interval\n",
      "Removing variants with reading depth 10 or below\n",
      "done\n",
      "removed unkwon genotypes (e.g \"./.\")\n",
      "replaced phased genotype (e.g \"0|1\" -> \"0/1\")\n",
      "removing variants outside of peak interval\n",
      "Removing variants with reading depth 10 or below\n",
      "Removing variants with allele frequency above 0.1\n",
      "done\n"
     ]
    }
   ],
   "source": [
    "# # getting the total amount of variants for each sample\n",
    "all_v_old = gdf.count_sample_variants(verbos=True).rename('all_variants')\n",
    "\n",
    "# # getting the amount of variants only in ATAC intervals\n",
    "only_interval_old = gdf.remove_non_peak_variants().count_sample_variants(verbos=True).rename('interval_variants')\n",
    "\n",
    "# # getting the amount of variants in interval & AF < 0.01\n",
    "af_v_old = gdf.filter_AF(AF_t).count_sample_variants(verbos=True).rename('interval_variants_AF<0.01')\n",
    "\n",
    "# # getting the amount of variants in interval & DP > 10\n",
    "dp_v_old = gdf.remove_filter(-1).filter_DP(DP_t).count_sample_variants(verbos=True).rename('interval_variants_DP>10') \n",
    "\n",
    "#\n",
    "both_v_old =  gdf.filter_AF(AF_t).count_sample_variants(verbos=True).rename('interval_variants_AF<0.01_DP>10')\n",
    "\n",
    "\n"
   ]
  },
  {
   "cell_type": "code",
   "execution_count": 6,
   "id": "957a51f9",
   "metadata": {},
   "outputs": [],
   "source": [
    "count_df_old = pd.concat([all_v_old, only_interval_old,af_v_old, dp_v_old,both_v_old], axis=1)\n",
    "count_df_old.head()\n",
    "count_df_old.to_csv('variant_number_old.csv')"
   ]
  },
  {
   "cell_type": "code",
   "execution_count": 10,
   "id": "8109a8e1",
   "metadata": {},
   "outputs": [],
   "source": [
    "\n",
    "new_AF =  GnomAD_df_new_af('data/main_new_AF.prq',\n",
    "                peak_file='data/hATAC_mATAC_peak.bed.gz',\n",
    "                remove_unkown=True,\n",
    "                remove_phased_gt=True,\n",
    "                only_peak_variants=True)"
   ]
  },
  {
   "cell_type": "code",
   "execution_count": 11,
   "id": "e04ee193",
   "metadata": {},
   "outputs": [
    {
     "name": "stdout",
     "output_type": "stream",
     "text": [
      "removing variants outside of peak interval\n",
      "removed unkwon genotypes (e.g \"./.\")\n",
      "replaced phased genotype (e.g \"0|1\" -> \"0/1\")\n",
      "done\n",
      "removing variants outside of peak interval already applied\n",
      "removing variants outside of peak interval\n",
      "removed unkwon genotypes (e.g \"./.\")\n",
      "replaced phased genotype (e.g \"0|1\" -> \"0/1\")\n",
      "done\n",
      "removing variants outside of peak interval\n",
      "removed unkwon genotypes (e.g \"./.\")\n",
      "replaced phased genotype (e.g \"0|1\" -> \"0/1\")\n",
      "Removing variants with allele frequency above 0.01\n",
      "done\n",
      "removing variants outside of peak interval\n",
      "removed unkwon genotypes (e.g \"./.\")\n",
      "replaced phased genotype (e.g \"0|1\" -> \"0/1\")\n",
      "Removing variants with reading depth 10 or below\n",
      "done\n",
      "removing variants outside of peak interval\n",
      "removed unkwon genotypes (e.g \"./.\")\n",
      "replaced phased genotype (e.g \"0|1\" -> \"0/1\")\n",
      "Removing variants with reading depth 10 or below\n",
      "Removing variants with allele frequency above 0.01\n",
      "done\n"
     ]
    }
   ],
   "source": [
    "\n",
    "# # # getting the total amount of variants for each sample\n",
    "all_v = new_AF.count_sample_variants(verbos=True).rename('all_variants')\n",
    "\n",
    "# # getting the amount of variants only in ATAC intervals\n",
    "only_interval = new_AF.remove_non_peak_variants().count_sample_variants(verbos=True).rename('interval_variants_NEW_AF')\n",
    "\n",
    "# getting the amount of variants in interval & AF < 0.01\n",
    "af_v = new_AF.filter_AF(AF_t).count_sample_variants(verbos=True).rename('interval_variants_AF<0.01_NEW_AF')\n",
    "\n",
    "# # getting the amount of variants in interval & DP > 10\n",
    "dp_v = new_AF.remove_filter(-1).filter_DP(DP_t).count_sample_variants(verbos=True).rename('interval_variants_DP>10_NEW_AF') \n",
    "\n",
    "#\n",
    "both_v =  new_AF.filter_AF(AF_t).count_sample_variants(verbos=True).rename('interval_variants_AF<0.01_DP>10_NEW_AF')"
   ]
  },
  {
   "cell_type": "markdown",
   "id": "c657a3b0",
   "metadata": {},
   "source": [
    "In order to see the difference, I'll generate a plot wich presents the difference between the amount of variants in both classes, where one class uses the old AF and the other the new"
   ]
  },
  {
   "cell_type": "code",
   "execution_count": 8,
   "id": "39de8ff8",
   "metadata": {},
   "outputs": [
    {
     "ename": "NameError",
     "evalue": "name 'all_v' is not defined",
     "output_type": "error",
     "traceback": [
      "\u001b[0;31m---------------------------------------------------------------------------\u001b[0m",
      "\u001b[0;31mNameError\u001b[0m                                 Traceback (most recent call last)",
      "\u001b[0;32m/tmp/ipykernel_6108/2450926388.py\u001b[0m in \u001b[0;36m<module>\u001b[0;34m\u001b[0m\n\u001b[0;32m----> 1\u001b[0;31m \u001b[0mcount_df_NEW\u001b[0m \u001b[0;34m=\u001b[0m \u001b[0mpd\u001b[0m\u001b[0;34m.\u001b[0m\u001b[0mconcat\u001b[0m\u001b[0;34m(\u001b[0m\u001b[0;34m[\u001b[0m\u001b[0mall_v\u001b[0m\u001b[0;34m,\u001b[0m \u001b[0monly_interval\u001b[0m\u001b[0;34m,\u001b[0m\u001b[0maf_v\u001b[0m\u001b[0;34m,\u001b[0m \u001b[0mdp_v\u001b[0m\u001b[0;34m,\u001b[0m\u001b[0mboth_v\u001b[0m\u001b[0;34m]\u001b[0m\u001b[0;34m,\u001b[0m \u001b[0maxis\u001b[0m\u001b[0;34m=\u001b[0m\u001b[0;36m1\u001b[0m\u001b[0;34m)\u001b[0m\u001b[0;34m\u001b[0m\u001b[0;34m\u001b[0m\u001b[0m\n\u001b[0m\u001b[1;32m      2\u001b[0m \u001b[0msamples\u001b[0m \u001b[0;34m=\u001b[0m \u001b[0mcount_df_NEW\u001b[0m\u001b[0;34m.\u001b[0m\u001b[0mindex\u001b[0m\u001b[0;34m.\u001b[0m\u001b[0mtolist\u001b[0m\u001b[0;34m(\u001b[0m\u001b[0;34m)\u001b[0m\u001b[0;34m\u001b[0m\u001b[0;34m\u001b[0m\u001b[0m\n\u001b[1;32m      3\u001b[0m \u001b[0msamples\u001b[0m\u001b[0;34m.\u001b[0m\u001b[0msort\u001b[0m\u001b[0;34m(\u001b[0m\u001b[0;34m)\u001b[0m\u001b[0;34m\u001b[0m\u001b[0;34m\u001b[0m\u001b[0m\n\u001b[1;32m      4\u001b[0m \u001b[0morder\u001b[0m \u001b[0;34m=\u001b[0m \u001b[0msamples\u001b[0m\u001b[0;34m\u001b[0m\u001b[0;34m\u001b[0m\u001b[0m\n\u001b[1;32m      5\u001b[0m \u001b[0mcount_df_NEW\u001b[0m \u001b[0;34m=\u001b[0m \u001b[0mcount_df_NEW\u001b[0m\u001b[0;34m.\u001b[0m\u001b[0mloc\u001b[0m\u001b[0;34m[\u001b[0m\u001b[0morder\u001b[0m\u001b[0;34m,\u001b[0m\u001b[0;34m:\u001b[0m\u001b[0;34m]\u001b[0m\u001b[0;34m\u001b[0m\u001b[0;34m\u001b[0m\u001b[0m\n",
      "\u001b[0;31mNameError\u001b[0m: name 'all_v' is not defined"
     ]
    }
   ],
   "source": [
    "count_df_NEW = pd.concat([all_v, only_interval,af_v, dp_v,both_v], axis=1)\n",
    "samples = count_df_NEW.index.tolist()\n",
    "samples.sort()\n",
    "order = samples\n",
    "count_df_NEW = count_df_NEW.loc[order,:]"
   ]
  },
  {
   "cell_type": "code",
   "execution_count": 39,
   "id": "4bc41b8d",
   "metadata": {},
   "outputs": [
    {
     "data": {
      "image/png": "[encoded data removed]",
      "text/plain": [
       "<Figure size 1440x720 with 1 Axes>"
      ]
     },
     "metadata": {
      "needs_background": "light"
     },
     "output_type": "display_data"
    }
   ],
   "source": [
    "count_df_NEW.to_csv('variant_number_new.csv')\n",
    "count_df_OLD = pd.read_csv('variant_number_old.csv', index_col=0).astype(int)\n",
    "\n",
    "count_df_OLD = count_df_OLD.loc[order,:]\n",
    "diff_df = pd.DataFrame(count_df_OLD.to_numpy() - count_df_NEW.to_numpy(), columns = count_df_OLD.columns, index=count_df_OLD.index)\n",
    "x = diff_df.plot.bar(figsize=(20, 10))"
   ]
  },
  {
   "cell_type": "markdown",
   "id": "bf2f99fc",
   "metadata": {},
   "source": [
    "The plot show the difference between the number of variants between the old AF pipline and new. <br>\n",
    "colors represents different filters applied on the data. <br>\n",
    "The plot shows there is no difference in the number of variants in each interval and also no difference in the number of variant when applying DP filter. <br>\n",
    "This is make sense. \n",
    "The difference in the variant number when using AF filter, might be explained by non-passed-filter variants in the old pipeline"
   ]
  },
  {
   "cell_type": "code",
   "execution_count": 2,
   "id": "8a35e50a",
   "metadata": {},
   "outputs": [],
   "source": [
    "new_AF_not_unknown =  GnomAD_df_new_af('data/main_new_AF.prq',\n",
    "                peak_file='data/hATAC_mATAC_peak.bed.gz',\n",
    "                remove_unkown=True,\n",
    "                remove_phased_gt=True,\n",
    "                only_peak_variants=True)\n",
    "\n",
    "AF_t = 0.01\n",
    "DP_t = 10\n",
    "\n"
   ]
  },
  {
   "cell_type": "code",
   "execution_count": 3,
   "id": "11e3039e",
   "metadata": {},
   "outputs": [
    {
     "name": "stdout",
     "output_type": "stream",
     "text": [
      "removing variants outside of peak interval\n",
      "replaced phased genotype (e.g \"0|1\" -> \"0/1\")\n",
      "removed unkwon genotypes (e.g \"./.\")\n",
      "Removing variants with allele frequency above 0.01\n",
      "done\n",
      "removing variants outside of peak interval\n",
      "replaced phased genotype (e.g \"0|1\" -> \"0/1\")\n",
      "removed unkwon genotypes (e.g \"./.\")\n",
      "Removing variants with allele frequency above 0.01 and variants with no record on gnomAD\n",
      "done\n"
     ]
    }
   ],
   "source": [
    "new_AF_not_unknown.reset_table()\n",
    "af_v = new_AF_not_unknown.filter_AF(AF_t,remove_unkwon=False ).count_sample_variants(verbos=True).rename('af_and_unknown')\n",
    "new_AF_not_unknown.reset_table()\n",
    "af_v_unknown = new_AF_not_unknown.filter_AF(AF_t,remove_unkwon=True ).count_sample_variants(verbos=True).rename('af')"
   ]
  },
  {
   "cell_type": "code",
   "execution_count": null,
   "id": "b4cfc8fb",
   "metadata": {},
   "outputs": [],
   "source": []
  },
  {
   "cell_type": "code",
   "execution_count": null,
   "id": "e5f2fc0c",
   "metadata": {},
   "outputs": [],
   "source": []
  },
  {
   "cell_type": "code",
   "execution_count": null,
   "id": "51829760",
   "metadata": {},
   "outputs": [],
   "source": [
    "diff_df = pd.concat([af_v.rename('all_v'),af_v_unknown.rename('only_af')], axis=1)\n",
    "diff_df['unknown'] = diff_df.all_v - diff_df.only_af\n",
    "diff_df['%'] =(diff_df['only_af'] / diff_df['all_v']) * 100\n",
    "diff_df.to_csv('difference_in_unknown_andknown.csv')"
   ]
  },
  {
   "cell_type": "markdown",
   "id": "623a7aa4",
   "metadata": {},
   "source": [
    "# Compare to Ofer pipeline"
   ]
  },
  {
   "cell_type": "code",
   "execution_count": 1,
   "id": "59ad0cc9",
   "metadata": {},
   "outputs": [],
   "source": [
    "\n",
    "import sys\n",
    "import os\n",
    "sys.path.append(os.path.abspath(\"code\"))\n",
    "import matplotlib.pyplot as plt\n",
    "import pandas as pd\n",
    "import seaborn as sns\n",
    "# from GnomAD_df_class_NEW_AF import GnomAD_df_new_af\n",
    "# from GnomAD_df_class import GnomAD_df\n",
    "AF_t = 0.1\n",
    "DP_t = 10\n"
   ]
  },
  {
   "cell_type": "code",
   "execution_count": 3,
   "id": "12848ea2",
   "metadata": {},
   "outputs": [],
   "source": [
    "gdf =  GnomAD_df_new_af('data/main_new_AF.prq',\n",
    "                peak_file='data/hATAC_mATAC_peak.bed.gz',\n",
    "                remove_unkown=True,\n",
    "                remove_phased_gt=True,\n",
    "                only_peak_variants=False)"
   ]
  },
  {
   "cell_type": "code",
   "execution_count": 18,
   "id": "5a6fde9a",
   "metadata": {},
   "outputs": [
    {
     "name": "stdout",
     "output_type": "stream",
     "text": [
      "Removing variants with allele frequency above 0.01 already applied\n",
      "removed unkwon genotypes (e.g \"./.\")\n",
      "replaced phased genotype (e.g \"0|1\" -> \"0/1\")\n",
      "Removing variants with allele frequency above 0.01\n",
      "done\n"
     ]
    }
   ],
   "source": [
    "bool_df = gdf.filter_AF(0.01).count_sample_variants()\n",
    "order = bool_df.index.tolist()\n",
    "order.sort()\n",
    "bool_df = bool_df[order]"
   ]
  },
  {
   "cell_type": "code",
   "execution_count": 6,
   "id": "f8865984",
   "metadata": {},
   "outputs": [
    {
     "data": {
      "text/plain": [
       "AS22WG001       2\n",
       "AS22WG002       2\n",
       "AS22WG003       2\n",
       "AS22WG004       2\n",
       "AS22WG005       6\n",
       "AS22WG006       6\n",
       "AS22WG007      10\n",
       "AS22WG008       7\n",
       "AS22WG009      71\n",
       "AS22WG010      39\n",
       "AS22WG011      38\n",
       "AS22WG012       7\n",
       "AS22WG013       7\n",
       "AS22WG014       5\n",
       "AS22WG015       5\n",
       "AS22WG016       2\n",
       "AS22WG017       2\n",
       "AS22WG018       1\n",
       "AS22WG019       2\n",
       "AS22WG020       4\n",
       "AS22WG021       3\n",
       "AS22WG022       3\n",
       "AS22WG023       3\n",
       "AS22WG024       7\n",
       "PKGen160     3619\n",
       "PKGen162     1461\n",
       "PKGen164     2058\n",
       "PKGen166     2063\n",
       "PKGen169     4016\n",
       "PKGen171     4045\n",
       "PKGen172     3990\n",
       "PKGen176     4984\n",
       "PKGen177     2121\n",
       "PKGen182     4170\n",
       "PKGen185     3931\n",
       "PKGen186     4110\n",
       "PKGen187     1933\n",
       "dtype: int64"
      ]
     },
     "execution_count": 6,
     "metadata": {},
     "output_type": "execute_result"
    }
   ],
   "source": [
    "\n"
   ]
  },
  {
   "cell_type": "code",
   "execution_count": 7,
   "id": "1477a33d",
   "metadata": {},
   "outputs": [],
   "source": [
    "raw_df = pd.read_parquet('data/main_new_AF.prq')\n",
    "raw_df = raw_df[raw_df.INTERVAL_ID.notna()]"
   ]
  },
  {
   "cell_type": "code",
   "execution_count": null,
   "id": "328b9222",
   "metadata": {},
   "outputs": [],
   "source": []
  },
  {
   "cell_type": "code",
   "execution_count": 15,
   "id": "8014bdb3",
   "metadata": {},
   "outputs": [],
   "source": [
    "# OFER CODE\n",
    "\n",
    "HETRO = ['0/1', '1/0', '1|0', '0|1']\n",
    "HOMO_REF = ['0/0', '0|0']\n",
    "HOMO_ALT = ['1|1', '1/1']\n",
    "MISSING = ['./.', '.|.']\n",
    "AFF_IDS = ['01', '04', '05', '09', '12', '16', '19']\n",
    "IND_AFF = ['23', '24']\n",
    "UNAFF_IDS = ['06', '13', '20']\n",
    "PARENTS = ['02', '03', '07', '08', '10', '11', '14', '15', '17', '18', '21', '22']\n",
    "MOTHERS_DICT = {'01': '03', '04': '08', '05': '08', '06': '08', '09': '11', '12': '15', '13': '15',\n",
    "                 '16': '18', '19': '22', '20': '22'}\n",
    "FATHERS_DICT = {'01': '02', '04': '07', '05': '07', '06': '07', '09': '10', '12': '14', '13': '14',\n",
    "                 '16': '17', '19': '21', '20': '21'}\n",
    "\n",
    "def calculate_n_vars(df, n_id):\n",
    "    \"\"\"\n",
    "     gets a dataframe and an id from our patients and it prints the number of variant \n",
    "     (variant is equal to genotype that is not missing or that is different from homozygote to the reference)\n",
    "    \"\"\"\n",
    "    df = df.loc[(df[f'AS22WG0{n_id}:GT'] != '0|0') &\n",
    "                          (df[f'AS22WG0{n_id}:GT'] != '0/0') &\n",
    "                         (df[f'AS22WG0{n_id}:GT'] != './.') &\n",
    "                         (df[f'AS22WG0{n_id}:GT'] != '.|.')][f'AS22WG0{n_id}:GT']\n",
    "    \n",
    "#     print('number of variants for ' + n_id + '=' + str(len([i for i in df.notna().tolist() if i])))\n",
    "    return len([i for i in df.notna().tolist() if i])\n"
   ]
  },
  {
   "cell_type": "code",
   "execution_count": 19,
   "id": "0ff95c28",
   "metadata": {},
   "outputs": [
    {
     "data": {
      "text/plain": [
       "Index(['AS22WG001', 'AS22WG002', 'AS22WG003', 'AS22WG004', 'AS22WG005',\n",
       "       'AS22WG006', 'AS22WG007', 'AS22WG008', 'AS22WG009', 'AS22WG010',\n",
       "       'AS22WG011', 'AS22WG012', 'AS22WG013', 'AS22WG014', 'AS22WG015',\n",
       "       'AS22WG016', 'AS22WG017', 'AS22WG018', 'AS22WG019', 'AS22WG020',\n",
       "       'AS22WG021', 'AS22WG022', 'AS22WG023', 'AS22WG024'],\n",
       "      dtype='object')"
      ]
     },
     "execution_count": 19,
     "metadata": {},
     "output_type": "execute_result"
    }
   ],
   "source": [
    "bool_df.index[:24]"
   ]
  },
  {
   "cell_type": "code",
   "execution_count": 25,
   "id": "bff91735",
   "metadata": {},
   "outputs": [
    {
     "data": {
      "text/html": [
       "<div>\n",
       "<style scoped>\n",
       "    .dataframe tbody tr th:only-of-type {\n",
       "        vertical-align: middle;\n",
       "    }\n",
       "\n",
       "    .dataframe tbody tr th {\n",
       "        vertical-align: top;\n",
       "    }\n",
       "\n",
       "    .dataframe thead th {\n",
       "        text-align: right;\n",
       "    }\n",
       "</style>\n",
       "<table border=\"1\" class=\"dataframe\">\n",
       "  <thead>\n",
       "    <tr style=\"text-align: right;\">\n",
       "      <th></th>\n",
       "      <th>ido_pipeline</th>\n",
       "      <th>Ofer_pipeline</th>\n",
       "    </tr>\n",
       "  </thead>\n",
       "  <tbody>\n",
       "    <tr>\n",
       "      <th>AS22WG001</th>\n",
       "      <td>2</td>\n",
       "      <td>2</td>\n",
       "    </tr>\n",
       "    <tr>\n",
       "      <th>AS22WG002</th>\n",
       "      <td>2</td>\n",
       "      <td>2</td>\n",
       "    </tr>\n",
       "    <tr>\n",
       "      <th>AS22WG003</th>\n",
       "      <td>2</td>\n",
       "      <td>2</td>\n",
       "    </tr>\n",
       "    <tr>\n",
       "      <th>AS22WG004</th>\n",
       "      <td>2</td>\n",
       "      <td>2</td>\n",
       "    </tr>\n",
       "    <tr>\n",
       "      <th>AS22WG005</th>\n",
       "      <td>6</td>\n",
       "      <td>6</td>\n",
       "    </tr>\n",
       "    <tr>\n",
       "      <th>AS22WG006</th>\n",
       "      <td>6</td>\n",
       "      <td>6</td>\n",
       "    </tr>\n",
       "    <tr>\n",
       "      <th>AS22WG007</th>\n",
       "      <td>10</td>\n",
       "      <td>10</td>\n",
       "    </tr>\n",
       "    <tr>\n",
       "      <th>AS22WG008</th>\n",
       "      <td>7</td>\n",
       "      <td>7</td>\n",
       "    </tr>\n",
       "    <tr>\n",
       "      <th>AS22WG009</th>\n",
       "      <td>71</td>\n",
       "      <td>71</td>\n",
       "    </tr>\n",
       "    <tr>\n",
       "      <th>AS22WG010</th>\n",
       "      <td>39</td>\n",
       "      <td>39</td>\n",
       "    </tr>\n",
       "    <tr>\n",
       "      <th>AS22WG011</th>\n",
       "      <td>38</td>\n",
       "      <td>38</td>\n",
       "    </tr>\n",
       "    <tr>\n",
       "      <th>AS22WG012</th>\n",
       "      <td>7</td>\n",
       "      <td>7</td>\n",
       "    </tr>\n",
       "    <tr>\n",
       "      <th>AS22WG013</th>\n",
       "      <td>7</td>\n",
       "      <td>7</td>\n",
       "    </tr>\n",
       "    <tr>\n",
       "      <th>AS22WG014</th>\n",
       "      <td>5</td>\n",
       "      <td>5</td>\n",
       "    </tr>\n",
       "    <tr>\n",
       "      <th>AS22WG015</th>\n",
       "      <td>5</td>\n",
       "      <td>5</td>\n",
       "    </tr>\n",
       "    <tr>\n",
       "      <th>AS22WG016</th>\n",
       "      <td>2</td>\n",
       "      <td>2</td>\n",
       "    </tr>\n",
       "    <tr>\n",
       "      <th>AS22WG017</th>\n",
       "      <td>2</td>\n",
       "      <td>2</td>\n",
       "    </tr>\n",
       "    <tr>\n",
       "      <th>AS22WG018</th>\n",
       "      <td>1</td>\n",
       "      <td>1</td>\n",
       "    </tr>\n",
       "    <tr>\n",
       "      <th>AS22WG019</th>\n",
       "      <td>2</td>\n",
       "      <td>2</td>\n",
       "    </tr>\n",
       "    <tr>\n",
       "      <th>AS22WG020</th>\n",
       "      <td>4</td>\n",
       "      <td>4</td>\n",
       "    </tr>\n",
       "    <tr>\n",
       "      <th>AS22WG021</th>\n",
       "      <td>3</td>\n",
       "      <td>3</td>\n",
       "    </tr>\n",
       "    <tr>\n",
       "      <th>AS22WG022</th>\n",
       "      <td>3</td>\n",
       "      <td>3</td>\n",
       "    </tr>\n",
       "    <tr>\n",
       "      <th>AS22WG023</th>\n",
       "      <td>3</td>\n",
       "      <td>3</td>\n",
       "    </tr>\n",
       "    <tr>\n",
       "      <th>AS22WG024</th>\n",
       "      <td>7</td>\n",
       "      <td>7</td>\n",
       "    </tr>\n",
       "  </tbody>\n",
       "</table>\n",
       "</div>"
      ],
      "text/plain": [
       "           ido_pipeline  Ofer_pipeline\n",
       "AS22WG001             2              2\n",
       "AS22WG002             2              2\n",
       "AS22WG003             2              2\n",
       "AS22WG004             2              2\n",
       "AS22WG005             6              6\n",
       "AS22WG006             6              6\n",
       "AS22WG007            10             10\n",
       "AS22WG008             7              7\n",
       "AS22WG009            71             71\n",
       "AS22WG010            39             39\n",
       "AS22WG011            38             38\n",
       "AS22WG012             7              7\n",
       "AS22WG013             7              7\n",
       "AS22WG014             5              5\n",
       "AS22WG015             5              5\n",
       "AS22WG016             2              2\n",
       "AS22WG017             2              2\n",
       "AS22WG018             1              1\n",
       "AS22WG019             2              2\n",
       "AS22WG020             4              4\n",
       "AS22WG021             3              3\n",
       "AS22WG022             3              3\n",
       "AS22WG023             3              3\n",
       "AS22WG024             7              7"
      ]
     },
     "execution_count": 25,
     "metadata": {},
     "output_type": "execute_result"
    }
   ],
   "source": [
    "rare_variants_peaks_df = raw_df.loc[raw_df['NEW_AF'] < 0.01]\n",
    "ofers_list = list(map(lambda x : calculate_n_vars(rare_variants_peaks_df, x),[str(i) if i > 9 else '0' + str(i) for i in range(1,25)] ))\n",
    "ofers_list = pd.Series(ofers_list, index=bool_df.index[:24], name='Ofer_pipeline')\n",
    "result = pd.concat([bool_df.rename('ido_pipeline'),ofers_list], axis=1).iloc[:24,:].astype(int)\n",
    "result"
   ]
  },
  {
   "cell_type": "code",
   "execution_count": 6,
   "id": "7a6783cd",
   "metadata": {},
   "outputs": [],
   "source": []
  }
 ],
 "metadata": {
  "kernelspec": {
   "display_name": "dev-venv",
   "language": "python",
   "name": "dev-venv"
  },
  "language_info": {
   "codemirror_mode": {
    "name": "ipython",
    "version": 3
   },
   "file_extension": ".py",
   "mimetype": "text/x-python",
   "name": "python",
   "nbconvert_exporter": "python",
   "pygments_lexer": "ipython3",
   "version": "3.7.3"
  }
 },
 "nbformat": 4,
 "nbformat_minor": 5
}
