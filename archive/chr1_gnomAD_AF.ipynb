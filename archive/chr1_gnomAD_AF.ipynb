{
 "cells": [
  {
   "cell_type": "code",
   "execution_count": 1,
   "id": "0c21228e",
   "metadata": {},
   "outputs": [],
   "source": [
    "import pandas as pd"
   ]
  },
  {
   "cell_type": "markdown",
   "id": "9cceaf61",
   "metadata": {},
   "source": [
    "# Chromosome  1 AF\n",
    "\n",
    "The new pipleline for getting the gnomAD AF did not finished properly on the following chromosoms:\n",
    " <a class=\"anchor\" id=\"missing_chr\"></a>\n",
    "- chr1\n",
    "- chr3\n",
    "- chr5\n",
    "- chr8\n",
    "- chr10\n",
    "- chr15\n",
    "\n",
    "In order to fix it, I made another script, This time I used the local gnomAD vcf files (which Ofer downloaded) & gave more memory to the sbatch command (<a href=code/get_gnomAD_AF_leftovers.sh>script code can be found here</a>) : \n",
    "> ```bash\n",
    "sbatch -o slurm_log/second_left_over_%A_%a --mem 300G --killable --requeue -c 16 --array=0-4 -t 56:00:00 --wrap \"code/get_gnomAD_AF_leftovers.sh\"\n",
    "\n",
    "For all chromosomes, except chr1, the proccesed finished properly, while The slurm log file on chromosome 1 showed  errors: <br>\n",
    "\n",
    "> [E::bgzf_read_block] Invalid BGZF header at offset 189854641494 <br>\n",
    "[E::bgzf_uncompress] Inflate operation failed: 3<br>\n",
    "\n",
    "The 'bgzf_read_block' error can be found many times and the second only once. <br>\n",
    "these errors did not stopped the script, and there is an output file, which the maximal position in it is\n",
    "<a class=\"anchor\", id=\"max_pos\"></a>  243,019,330 out  of 249MB.<br>\n",
    "This might suggest the errors, but there are might be some regions in the middle which the pipline failed to achive. <br>\n",
    "\n",
    "Since the same happned in the first run of the new pipeline, on the chromosome mentioned [above](#missing_chr), and now it worked properly, there are two possibilities:\n",
    "1. chromosome 1 file is damaged both in AWS & in our file system\n",
    "2. the --killable flag cause / not enough memory is given to the program\n",
    "\n",
    "since the 2nd option is not only more likely, but it is the one that I can try to fix. <br>\n",
    "\n",
    "This time I'll try to run the command w/o the killable flag.\n",
    "\n",
    "## step 1: get chromosme 1 intervals\n",
    "I'll extract chromosome 1 interval from the interval file\n",
    "\n"
   ]
  },
  {
   "cell_type": "code",
   "execution_count": 12,
   "id": "b0bd92ef",
   "metadata": {},
   "outputs": [
    {
     "name": "stdout",
     "output_type": "stream",
     "text": [
      "Five ATAC interval with the maximal position in chromsome 1:\n"
     ]
    },
    {
     "data": {
      "text/html": [
       "<div>\n",
       "<style scoped>\n",
       "    .dataframe tbody tr th:only-of-type {\n",
       "        vertical-align: middle;\n",
       "    }\n",
       "\n",
       "    .dataframe tbody tr th {\n",
       "        vertical-align: top;\n",
       "    }\n",
       "\n",
       "    .dataframe thead th {\n",
       "        text-align: right;\n",
       "    }\n",
       "</style>\n",
       "<table border=\"1\" class=\"dataframe\">\n",
       "  <thead>\n",
       "    <tr style=\"text-align: right;\">\n",
       "      <th></th>\n",
       "      <th>0</th>\n",
       "      <th>1</th>\n",
       "      <th>2</th>\n",
       "    </tr>\n",
       "  </thead>\n",
       "  <tbody>\n",
       "    <tr>\n",
       "      <th>19176</th>\n",
       "      <td>chr1</td>\n",
       "      <td>248889240</td>\n",
       "      <td>248889941</td>\n",
       "    </tr>\n",
       "    <tr>\n",
       "      <th>19177</th>\n",
       "      <td>chr1</td>\n",
       "      <td>248905657</td>\n",
       "      <td>248907559</td>\n",
       "    </tr>\n",
       "    <tr>\n",
       "      <th>19178</th>\n",
       "      <td>chr1</td>\n",
       "      <td>248918189</td>\n",
       "      <td>248918244</td>\n",
       "    </tr>\n",
       "    <tr>\n",
       "      <th>19179</th>\n",
       "      <td>chr1</td>\n",
       "      <td>248923380</td>\n",
       "      <td>248925434</td>\n",
       "    </tr>\n",
       "    <tr>\n",
       "      <th>19180</th>\n",
       "      <td>chr1</td>\n",
       "      <td>248927609</td>\n",
       "      <td>248928681</td>\n",
       "    </tr>\n",
       "  </tbody>\n",
       "</table>\n",
       "</div>"
      ],
      "text/plain": [
       "          0          1          2\n",
       "19176  chr1  248889240  248889941\n",
       "19177  chr1  248905657  248907559\n",
       "19178  chr1  248918189  248918244\n",
       "19179  chr1  248923380  248925434\n",
       "19180  chr1  248927609  248928681"
      ]
     },
     "execution_count": 12,
     "metadata": {},
     "output_type": "execute_result"
    }
   ],
   "source": [
    "interval_file = pd.read_csv('data/peak_bcftools_format.tsv', sep='\\t', header=None)\n",
    "chr1_interval = interval_file[interval_file[0] == 'chr1']\n",
    "chr1_interval.to_csv('data/chr1_interval.tsv', sep='\\t', index=False, header=None)\n",
    "print(\"Five ATAC interval with the maximal position in chromsome 1:\")\n",
    "chr1_interval.tail()"
   ]
  },
  {
   "cell_type": "markdown",
   "id": "aab0c972",
   "metadata": {},
   "source": [
    "No variants in the regions above can be found in the output of the [pipline result](#max_pos). <br>\n",
    "\n",
    "To check if there are variants in this regions, a command was executed on 2 files:\n",
    "1. the vcf on AWS server\n",
    "2. the vcf on the local system\n",
    "\n",
    "the command: \n",
    "\n",
    "> ```bash\n",
    "bcftools query -i 'FILTER=\"PASS\"' -r chr1:248927609-248928681 -f \"%CHROM:%POS %REF-%ALT %AF %FILTER\\n\" FILE\n",
    "\n",
    "\n",
    "\n",
    "the output on the vcf from the AWS resulted a list of variants (this is a sample):\n",
    "\n",
    "chr1:248928644 G-A 1.97086e-05     PASS <br>\n",
    "chr1:248928648 G-T 6.57047e-06     PASS <br>\n",
    "\n",
    "the out put on the local vcf file :\n",
    "[E::bgzf_read_block] Invalid BGZF header at offset 195393501396 <br>\n",
    "\n",
    "This might suggest the local VCF is corrupted, Hence I'll run the same sbatch command on chromosome 1, This time with the AWS file:\n",
    "\n",
    "> https://gnomad-public-us-east-1.s3.amazonaws.com/release/3.1.2/vcf/genomes/gnomad.genomes.v3.1.2.sites.chr1.vcf.bgz\n",
    "\n",
    "the full script can be found <a href='code/get_gnomAD_AF_CHR1.sh'> here, the following is a summary of the command </a>\n",
    "\n",
    ">```bash\n",
    "bcftools query -i 'FILTER=\"PASS\"' -R data/chr1_interval.tsv -f \"%CHROM\\t%POS\\t%REF\\t%ALT\\t%AF\\t\\n\" https://gnomad-public-us-east-1.s3.amazonaws.com/release/3.1.2/vcf/genomes/gnomad.genomes.v3.1.2.sites.chr1.vcf.bgz\n",
    "\n",
    "main changes:\n",
    "Runs only on chromosome 1, using interval file which contains only the regions in chromosome 1\n",
    "<br>\n",
    "\n",
    "> ```bash\n",
    "sbatch -o slurm_log/chr1_gnomAD_AF_%A.log --mem 300G -c 16 -t 56:00:00 --wrap \"code/get_gnomAD_AF_CHR1.sh\"\n",
    "Submitted batch job 14402090\n",
    "\n",
    "\n",
    "![image](http://www.quickmeme.com/img/80/8006789bb0cc3734ca56a33a79d2660023d66fd71ea1755948161b32292801bf.jpg)"
   ]
  },
  {
   "cell_type": "markdown",
   "id": "0aa2c06b",
   "metadata": {},
   "source": [
    "Update- The process finished succesfully :) (6/03/23) <br>\n",
    "Happy Purim "
   ]
  }
 ],
 "metadata": {
  "kernelspec": {
   "display_name": "dev-venv",
   "language": "python",
   "name": "dev-venv"
  },
  "language_info": {
   "codemirror_mode": {
    "name": "ipython",
    "version": 3
   },
   "file_extension": ".py",
   "mimetype": "text/x-python",
   "name": "python",
   "nbconvert_exporter": "python",
   "pygments_lexer": "ipython3",
   "version": "3.7.3"
  }
 },
 "nbformat": 4,
 "nbformat_minor": 5
}
