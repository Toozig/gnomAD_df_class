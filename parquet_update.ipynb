{
 "cells": [
  {
   "cell_type": "code",
   "execution_count": 1,
   "id": "17e6d525",
   "metadata": {},
   "outputs": [],
   "source": [
    "import sys\n",
    "import os\n",
    "sys.path.append(os.path.abspath(\"code\"))\n",
    "# these are  needed-\n",
    "import pandas as pd\n",
    "import numpy as np\n",
    "from GnomAD_df_class import GnomAD_df"
   ]
  },
  {
   "cell_type": "markdown",
   "id": "1f5c1208",
   "metadata": {},
   "source": [
    "# main parquet update notebook\n",
    "In this notebook I'll writte the updated on the main parquet file which contains the samples variants, intervals & allele frequency <br>\n",
    "\n",
    "2/3/2023\n",
    "The main file contains information of the following samples: <br>\n",
    "#### Sinclair's samples:\n",
    "1. AS22WG001\n",
    "2. AS22WG002\n",
    "3. AS22WG003\n",
    "4. AS22WG004\n",
    "5. AS22WG005\n",
    "6. AS22WG006\n",
    "7. AS22WG007\n",
    "8. AS22WG008\n",
    "10. AS22WG009 \n",
    "11. AS22WG010\n",
    "12. AS22WG011\n",
    "13. AS22WG012\n",
    "14. AS22WG013\n",
    "15. AS22WG014\n",
    "16. AS22WG015\n",
    "17. AS22WG016\n",
    "18. AS22WG017\n",
    "19. AS22WG018\n",
    "20. AS22WG019\n",
    "21. AS22WG020\n",
    "22. AS22WG021\n",
    "23. AS22WG022 \n",
    "24. AS22WG023\n",
    "25. AS22WG024\n",
    "\n",
    "\n",
    "#### Anu & Ken's samples: \n",
    "##### raw data samples: \n",
    "The following samples data was retrived from the raw vcf file, the processed files will be added on arrival\n",
    "1. PKGen162 \n",
    "\n",
    "2. PKGen160 \n",
    "3. PKGen164 <br>\n",
    "\n",
    "\n",
    "##### SNP data:\n",
    "\n",
    "1. PKGen169 \n",
    "2. PKGen176 \n",
    "3. PKGen171 \n",
    "4. PKGen185 \n",
    "5. PKGen182 \n",
    "6. PKGen166 \n",
    "7. PKGen177 \n",
    "8. PKGen186 \n",
    "9. PKGen172 \n",
    "10. PKGen187\n",
    "\n",
    "On the 1/3/2023 we noticed some of the samples do not have gnomAD's alleles frequencey (AF), Although it can be found on the website. <br>\n",
    "\n",
    "In order to fix it, the script 'get_gnomAD_AF.sh', was applied. it can be found under \"code folder   <br>\n",
    "to run it, the following command was applied\n",
    ">```bash\n",
    ">sbatch --mem 8G --killable --requeue -c 4 --array=0-23 -t 72:00:00 --wrap \"code/get_gnomAD_AF.sh\"\n",
    ">```\n",
    "\n",
    "<br>\n",
    "The job is killable due the useage of all the lab resources on the cluster. it means the job have low priority. <br>\n",
    "The following chromosmes ended the scripts without errors: <br>\n",
    "\n",
    "- chr4\n",
    "- chr6\n",
    "- chr7\n",
    "- chr20\n",
    "- chr21\n",
    "- chr22\n",
    "- chrX\n",
    "- chrY\n",
    "\n",
    "while the reset reported **bgzf_read_block**. The \"bgzf_read_block\" error in bcftools usually indicates a problem with reading compressed data blocks in a BGZF file. <br>\n",
    "there are two possible explanation for the error: <br> \n",
    "1. corrupt file\n",
    "2. insufficient disk space or memory errors\n",
    "\n",
    "Since we are using a file which is largely in use worldwide, the 2nd option is more likely, killable flag or insufficient memory given to the command.<br>\n",
    "\n",
    "In the following part, I'll compare between the current AF to the new generated. <br>"
   ]
  },
  {
   "cell_type": "code",
   "execution_count": 10,
   "id": "64fbb974",
   "metadata": {},
   "outputs": [],
   "source": [
    "no_error_chr = [\"chr4\", \"chr6\", \"chr7\", \"chr20\", \"chr21\", \"chr22\", \"chrX\", \"chrY\"]\n",
    "error_chr = [\"chr\" + str(i) for i in range(1,20) if \"chr\" + str(i) not in  no_error_chr ]\n",
    "def get_new_chrom_variant(chrom):\n",
    "    \"\"\"\n",
    "    opens the new generated AF variant file \n",
    "    \"\"\"\n",
    "    df = pd.read_csv(f'data/{chrom}_gnomAD_AF.tsv', sep='\\t', header=None).loc[:,:4]\n",
    "    df.columns = ['CHROM','POS','REF','ALT','NEW_AF']\n",
    "    return df.set_index(['CHROM','POS','REF','ALT'])\n",
    "    \n",
    "# loading the current DF\n",
    "current_df = GnomAD_df('data/main.prq', only_peak_variants=True, remove_unkown=False, remove_phased_gt=False).get_table()\n",
    "current_df.head()"
   ]
  },
  {
   "cell_type": "code",
   "execution_count": 28,
   "id": "d04ee041",
   "metadata": {},
   "outputs": [],
   "source": [
    "# creating a table which contains the current AF column and the new AF column\n",
    "\n",
    "AF_df = current_df[['AF']]\n",
    "AF_df['NEW_AF'] = np.nan\n",
    "for chrom in no_error_chr + error_chr:\n",
    "    df = get_new_chrom_variant(chrom)\n",
    "    df = df[df.index.isin(current_df.index)]\n",
    "    AF_df.loc[df.index,'NEW_AF'] = df.NEW_AF.values\n",
    "AF_df = AF_df.reset_index()"
   ]
  },
  {
   "cell_type": "code",
   "execution_count": 33,
   "id": "a3b6fa89",
   "metadata": {},
   "outputs": [
    {
     "name": "stdout",
     "output_type": "stream",
     "text": [
      "# of NaN in current table - 172\n",
      "# of NaN in new AF - 132914\n",
      "# of variants AF in current df - 134137\n",
      "# of variants AF in ne df - 1395\n",
      "# variants exist in both tables  1388\n"
     ]
    }
   ],
   "source": [
    "print(f\"# of NaN in current table - {AF_df.AF.isna().sum()}\\n# of NaN in new AF - {AF_df.NEW_AF.isna().sum()}\")\n",
    "nona = AF_df.dropna()\n",
    "print(f\"# of variants AF in current df - {AF_df.AF.notna().sum()}\\n# of variants AF in new df - {AF_df.NEW_AF.notna().sum()}\\n# variants exist in both tables  {nona.shape[0]}\")"
   ]
  },
  {
   "cell_type": "markdown",
   "id": "821f5fba",
   "metadata": {},
   "source": [
    "The big difference in the numbers might be cause due the error I got in the generating script <br>\n",
    "Now we will look only on chromosome which the script fully finished"
   ]
  },
  {
   "cell_type": "code",
   "execution_count": null,
   "id": "692a3d96",
   "metadata": {},
   "outputs": [],
   "source": []
  }
 ],
 "metadata": {
  "kernelspec": {
   "display_name": "dev-venv",
   "language": "python",
   "name": "dev-venv"
  },
  "language_info": {
   "codemirror_mode": {
    "name": "ipython",
    "version": 3
   },
   "file_extension": ".py",
   "mimetype": "text/x-python",
   "name": "python",
   "nbconvert_exporter": "python",
   "pygments_lexer": "ipython3",
   "version": "3.7.3"
  }
 },
 "nbformat": 4,
 "nbformat_minor": 5
}
