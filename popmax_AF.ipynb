{
 "cells": [
  {
   "cell_type": "markdown",
   "id": "f23e0be9",
   "metadata": {},
   "source": [
    "# POPMAX AF\n",
    "During the meeting on the 16.3.2023,it was suggested to filter variants by the allle frequency (AF) of the population which the variant is most common in (popmax in gnomAD terms) <br>\n",
    "\n",
    "in order to do so, I rerun the pipeline with few changes, the script can be found [here](code/get_gnomAD_POPMAX_AF.sh) <br>\n",
    "the script run with the following command-\n",
    "```bash \n",
    " sbatch --array=0-23 -o slurm_log/gnomAD_AF_2003_%A_%a.log --mem 500G -c 16 -t 56:00:00 --wrap \"code/get_gnomAD_POPMAX_AF.sh\"\n",
    " ```\n",
    " Some chromosome did not finshed properly due to not enough memory. I did a rerun for each one of them with more memory, until the process finished properly for all <br>\n",
    " \n",
    " In the new files, the popmax AF and regular AF is avaiable. <br>\n",
    " I'll run a sanity check to see that all the variants which exist in the current file, can be foind in the output of the new pipeline"
   ]
  },
  {
   "cell_type": "code",
   "execution_count": 23,
   "id": "76fa575e",
   "metadata": {},
   "outputs": [],
   "source": [
    "import pandas as pd\n",
    "import matplotlib.pyplot as plt\n",
    "\n",
    "import seaborn as sns\n",
    "import numpy as np"
   ]
  },
  {
   "cell_type": "code",
   "execution_count": 2,
   "id": "4d553fbc",
   "metadata": {},
   "outputs": [],
   "source": [
    "chrom_list = ['chr1', \"chr2\", \"chr4\",\"chr3\",\"chr5\", \"chr6\", \"chr7\",\"chr8\",\"chr9\",\"chr10\",\"chr11\",\"chr12\",\"chr13\",\"chr14\",\"chr15\",\"chr16\",\"chr17\",\"chr18\",\"chr19\", \"chr20\", \"chr21\", \"chr22\", \"chrX\", \"chrY\"]\n",
    "def get_chrom_variant(chrom, new=True):\n",
    "    \"\"\"\n",
    "    opens the new generated AF variant file \n",
    "    \"\"\"\n",
    "    if new:\n",
    "        df = pd.read_csv(f'data/gnomAD_popmax_AF/{chrom}_gnomAD_AF_19_03.tsv',\n",
    "                         sep='\\t',\n",
    "                         header=None,\n",
    "                        names= ['CHROM','POS','REF','ALT','AF', 'popmax_AF', 'filter'])\n",
    "    else:\n",
    "        df = pd.read_csv(f'data/gnomAD_AF/{chrom}_gnomAD_AF.tsv',\n",
    "                         sep='\\t',\n",
    "                         header=None).loc[:,:4]\n",
    "        df.columns = ['CHROM','POS','REF','ALT','AF']\n",
    "    return df.set_index(['CHROM','POS','REF','ALT'])\n",
    "\n",
    "\n",
    "def add_gnomAD_link(df):\n",
    "    df = df.reset_index()\n",
    "    links = []\n",
    "    for i, row in df.iterrows():\n",
    "        links.append(f\"https://gnomad.broadinstitute.org/variant/{row.CHROM.replace('chr','')}-{row.POS}-{row.REF}-{row.ALT}?dataset=gnomad_r3\")\n",
    "    df['gnomAD'] = links\n",
    "    func = lambda x: x if len(x) <= 5 else x[:5] + '...'\n",
    "    df.REF = df.REF.apply(func)\n",
    "    df.ALT = df.ALT.apply(func)\n",
    "    return df\n",
    "\n",
    "\n",
    "def make_clickable(val):\n",
    "    # target _blank to open new window\n",
    "    return '<a target=\"_blank\" href=\"{}\">{}</a>'.format(val, val)\n",
    "\n",
    "def show_table(df):\n",
    "    df = add_gnomAD_link(df)\n",
    "    display(df.style.format({'gnomAD': make_clickable}))"
   ]
  },
  {
   "cell_type": "code",
   "execution_count": 3,
   "id": "990978f4",
   "metadata": {},
   "outputs": [
    {
     "data": {
      "text/html": [
       "<style type=\"text/css\">\n",
       "</style>\n",
       "<table id=\"T_3f4ee_\">\n",
       "  <thead>\n",
       "    <tr>\n",
       "      <th class=\"blank level0\" >&nbsp;</th>\n",
       "      <th class=\"col_heading level0 col0\" >CHROM</th>\n",
       "      <th class=\"col_heading level0 col1\" >POS</th>\n",
       "      <th class=\"col_heading level0 col2\" >REF</th>\n",
       "      <th class=\"col_heading level0 col3\" >ALT</th>\n",
       "      <th class=\"col_heading level0 col4\" >AF</th>\n",
       "      <th class=\"col_heading level0 col5\" >gnomAD</th>\n",
       "    </tr>\n",
       "  </thead>\n",
       "  <tbody>\n",
       "    <tr>\n",
       "      <th id=\"T_3f4ee_level0_row0\" class=\"row_heading level0 row0\" >0</th>\n",
       "      <td id=\"T_3f4ee_row0_col0\" class=\"data row0 col0\" >chr1</td>\n",
       "      <td id=\"T_3f4ee_row0_col1\" class=\"data row0 col1\" >29231</td>\n",
       "      <td id=\"T_3f4ee_row0_col2\" class=\"data row0 col2\" >GC</td>\n",
       "      <td id=\"T_3f4ee_row0_col3\" class=\"data row0 col3\" >G</td>\n",
       "      <td id=\"T_3f4ee_row0_col4\" class=\"data row0 col4\" >0.000235</td>\n",
       "      <td id=\"T_3f4ee_row0_col5\" class=\"data row0 col5\" ><a target=\"_blank\" href=\"https://gnomad.broadinstitute.org/variant/1-29231-GC-G?dataset=gnomad_r3\">https://gnomad.broadinstitute.org/variant/1-29231-GC-G?dataset=gnomad_r3</a></td>\n",
       "    </tr>\n",
       "    <tr>\n",
       "      <th id=\"T_3f4ee_level0_row1\" class=\"row_heading level0 row1\" >1</th>\n",
       "      <td id=\"T_3f4ee_row1_col0\" class=\"data row1 col0\" >chr1</td>\n",
       "      <td id=\"T_3f4ee_row1_col1\" class=\"data row1 col1\" >29253</td>\n",
       "      <td id=\"T_3f4ee_row1_col2\" class=\"data row1 col2\" >C</td>\n",
       "      <td id=\"T_3f4ee_row1_col3\" class=\"data row1 col3\" >T</td>\n",
       "      <td id=\"T_3f4ee_row1_col4\" class=\"data row1 col4\" >0.000009</td>\n",
       "      <td id=\"T_3f4ee_row1_col5\" class=\"data row1 col5\" ><a target=\"_blank\" href=\"https://gnomad.broadinstitute.org/variant/1-29253-C-T?dataset=gnomad_r3\">https://gnomad.broadinstitute.org/variant/1-29253-C-T?dataset=gnomad_r3</a></td>\n",
       "    </tr>\n",
       "    <tr>\n",
       "      <th id=\"T_3f4ee_level0_row2\" class=\"row_heading level0 row2\" >2</th>\n",
       "      <td id=\"T_3f4ee_row2_col0\" class=\"data row2 col0\" >chr1</td>\n",
       "      <td id=\"T_3f4ee_row2_col1\" class=\"data row2 col1\" >29257</td>\n",
       "      <td id=\"T_3f4ee_row2_col2\" class=\"data row2 col2\" >TC</td>\n",
       "      <td id=\"T_3f4ee_row2_col3\" class=\"data row2 col3\" >T</td>\n",
       "      <td id=\"T_3f4ee_row2_col4\" class=\"data row2 col4\" >0.000019</td>\n",
       "      <td id=\"T_3f4ee_row2_col5\" class=\"data row2 col5\" ><a target=\"_blank\" href=\"https://gnomad.broadinstitute.org/variant/1-29257-TC-T?dataset=gnomad_r3\">https://gnomad.broadinstitute.org/variant/1-29257-TC-T?dataset=gnomad_r3</a></td>\n",
       "    </tr>\n",
       "    <tr>\n",
       "      <th id=\"T_3f4ee_level0_row3\" class=\"row_heading level0 row3\" >3</th>\n",
       "      <td id=\"T_3f4ee_row3_col0\" class=\"data row3 col0\" >chr1</td>\n",
       "      <td id=\"T_3f4ee_row3_col1\" class=\"data row3 col1\" >29257</td>\n",
       "      <td id=\"T_3f4ee_row3_col2\" class=\"data row3 col2\" >TCCCC...</td>\n",
       "      <td id=\"T_3f4ee_row3_col3\" class=\"data row3 col3\" >T</td>\n",
       "      <td id=\"T_3f4ee_row3_col4\" class=\"data row3 col4\" >0.000009</td>\n",
       "      <td id=\"T_3f4ee_row3_col5\" class=\"data row3 col5\" ><a target=\"_blank\" href=\"https://gnomad.broadinstitute.org/variant/1-29257-TCCCCTACTTCGCCCCGCCAGGC-T?dataset=gnomad_r3\">https://gnomad.broadinstitute.org/variant/1-29257-TCCCCTACTTCGCCCCGCCAGGC-T?dataset=gnomad_r3</a></td>\n",
       "    </tr>\n",
       "    <tr>\n",
       "      <th id=\"T_3f4ee_level0_row4\" class=\"row_heading level0 row4\" >4</th>\n",
       "      <td id=\"T_3f4ee_row4_col0\" class=\"data row4 col0\" >chr1</td>\n",
       "      <td id=\"T_3f4ee_row4_col1\" class=\"data row4 col1\" >29267</td>\n",
       "      <td id=\"T_3f4ee_row4_col2\" class=\"data row4 col2\" >C</td>\n",
       "      <td id=\"T_3f4ee_row4_col3\" class=\"data row4 col3\" >G</td>\n",
       "      <td id=\"T_3f4ee_row4_col4\" class=\"data row4 col4\" >0.000016</td>\n",
       "      <td id=\"T_3f4ee_row4_col5\" class=\"data row4 col5\" ><a target=\"_blank\" href=\"https://gnomad.broadinstitute.org/variant/1-29267-C-G?dataset=gnomad_r3\">https://gnomad.broadinstitute.org/variant/1-29267-C-G?dataset=gnomad_r3</a></td>\n",
       "    </tr>\n",
       "  </tbody>\n",
       "</table>\n"
      ],
      "text/plain": [
       "<pandas.io.formats.style.Styler at 0x7f655200d940>"
      ]
     },
     "metadata": {},
     "output_type": "display_data"
    },
    {
     "name": "stderr",
     "output_type": "stream",
     "text": [
      "/cs/usr/toozig/my_python/lib/python3.7/site-packages/ipykernel_launcher.py:3: DtypeWarning: Columns (4) have mixed types.Specify dtype option on import or set low_memory=False.\n",
      "  This is separate from the ipykernel package so we can avoid doing imports until\n"
     ]
    },
    {
     "data": {
      "text/html": [
       "<style type=\"text/css\">\n",
       "</style>\n",
       "<table id=\"T_281aa_\">\n",
       "  <thead>\n",
       "    <tr>\n",
       "      <th class=\"blank level0\" >&nbsp;</th>\n",
       "      <th class=\"col_heading level0 col0\" >CHROM</th>\n",
       "      <th class=\"col_heading level0 col1\" >POS</th>\n",
       "      <th class=\"col_heading level0 col2\" >REF</th>\n",
       "      <th class=\"col_heading level0 col3\" >ALT</th>\n",
       "      <th class=\"col_heading level0 col4\" >AF</th>\n",
       "      <th class=\"col_heading level0 col5\" >popmax_AF</th>\n",
       "      <th class=\"col_heading level0 col6\" >filter</th>\n",
       "      <th class=\"col_heading level0 col7\" >gnomAD</th>\n",
       "    </tr>\n",
       "  </thead>\n",
       "  <tbody>\n",
       "    <tr>\n",
       "      <th id=\"T_281aa_level0_row0\" class=\"row_heading level0 row0\" >0</th>\n",
       "      <td id=\"T_281aa_row0_col0\" class=\"data row0 col0\" >chr1</td>\n",
       "      <td id=\"T_281aa_row0_col1\" class=\"data row0 col1\" >29210</td>\n",
       "      <td id=\"T_281aa_row0_col2\" class=\"data row0 col2\" >A</td>\n",
       "      <td id=\"T_281aa_row0_col3\" class=\"data row0 col3\" >G</td>\n",
       "      <td id=\"T_281aa_row0_col4\" class=\"data row0 col4\" >0.000263</td>\n",
       "      <td id=\"T_281aa_row0_col5\" class=\"data row0 col5\" >0.00125313</td>\n",
       "      <td id=\"T_281aa_row0_col6\" class=\"data row0 col6\" >AS_VQSR</td>\n",
       "      <td id=\"T_281aa_row0_col7\" class=\"data row0 col7\" ><a target=\"_blank\" href=\"https://gnomad.broadinstitute.org/variant/1-29210-A-G?dataset=gnomad_r3\">https://gnomad.broadinstitute.org/variant/1-29210-A-G?dataset=gnomad_r3</a></td>\n",
       "    </tr>\n",
       "    <tr>\n",
       "      <th id=\"T_281aa_level0_row1\" class=\"row_heading level0 row1\" >1</th>\n",
       "      <td id=\"T_281aa_row1_col0\" class=\"data row1 col0\" >chr1</td>\n",
       "      <td id=\"T_281aa_row1_col1\" class=\"data row1 col1\" >29215</td>\n",
       "      <td id=\"T_281aa_row1_col2\" class=\"data row1 col2\" >C</td>\n",
       "      <td id=\"T_281aa_row1_col3\" class=\"data row1 col3\" >T</td>\n",
       "      <td id=\"T_281aa_row1_col4\" class=\"data row1 col4\" >0.000000</td>\n",
       "      <td id=\"T_281aa_row1_col5\" class=\"data row1 col5\" >.</td>\n",
       "      <td id=\"T_281aa_row1_col6\" class=\"data row1 col6\" >AC0;AS_VQSR</td>\n",
       "      <td id=\"T_281aa_row1_col7\" class=\"data row1 col7\" ><a target=\"_blank\" href=\"https://gnomad.broadinstitute.org/variant/1-29215-C-T?dataset=gnomad_r3\">https://gnomad.broadinstitute.org/variant/1-29215-C-T?dataset=gnomad_r3</a></td>\n",
       "    </tr>\n",
       "    <tr>\n",
       "      <th id=\"T_281aa_level0_row2\" class=\"row_heading level0 row2\" >2</th>\n",
       "      <td id=\"T_281aa_row2_col0\" class=\"data row2 col0\" >chr1</td>\n",
       "      <td id=\"T_281aa_row2_col1\" class=\"data row2 col1\" >29216</td>\n",
       "      <td id=\"T_281aa_row2_col2\" class=\"data row2 col2\" >G</td>\n",
       "      <td id=\"T_281aa_row2_col3\" class=\"data row2 col3\" >A</td>\n",
       "      <td id=\"T_281aa_row2_col4\" class=\"data row2 col4\" >0.000054</td>\n",
       "      <td id=\"T_281aa_row2_col5\" class=\"data row2 col5\" >0.00118483</td>\n",
       "      <td id=\"T_281aa_row2_col6\" class=\"data row2 col6\" >AS_VQSR</td>\n",
       "      <td id=\"T_281aa_row2_col7\" class=\"data row2 col7\" ><a target=\"_blank\" href=\"https://gnomad.broadinstitute.org/variant/1-29216-G-A?dataset=gnomad_r3\">https://gnomad.broadinstitute.org/variant/1-29216-G-A?dataset=gnomad_r3</a></td>\n",
       "    </tr>\n",
       "    <tr>\n",
       "      <th id=\"T_281aa_level0_row3\" class=\"row_heading level0 row3\" >3</th>\n",
       "      <td id=\"T_281aa_row3_col0\" class=\"data row3 col0\" >chr1</td>\n",
       "      <td id=\"T_281aa_row3_col1\" class=\"data row3 col1\" >29218</td>\n",
       "      <td id=\"T_281aa_row3_col2\" class=\"data row3 col2\" >T</td>\n",
       "      <td id=\"T_281aa_row3_col3\" class=\"data row3 col3\" >C</td>\n",
       "      <td id=\"T_281aa_row3_col4\" class=\"data row3 col4\" >0.000120</td>\n",
       "      <td id=\"T_281aa_row3_col5\" class=\"data row3 col5\" >0.00522648</td>\n",
       "      <td id=\"T_281aa_row3_col6\" class=\"data row3 col6\" >AS_VQSR</td>\n",
       "      <td id=\"T_281aa_row3_col7\" class=\"data row3 col7\" ><a target=\"_blank\" href=\"https://gnomad.broadinstitute.org/variant/1-29218-T-C?dataset=gnomad_r3\">https://gnomad.broadinstitute.org/variant/1-29218-T-C?dataset=gnomad_r3</a></td>\n",
       "    </tr>\n",
       "    <tr>\n",
       "      <th id=\"T_281aa_level0_row4\" class=\"row_heading level0 row4\" >4</th>\n",
       "      <td id=\"T_281aa_row4_col0\" class=\"data row4 col0\" >chr1</td>\n",
       "      <td id=\"T_281aa_row4_col1\" class=\"data row4 col1\" >29219</td>\n",
       "      <td id=\"T_281aa_row4_col2\" class=\"data row4 col2\" >C</td>\n",
       "      <td id=\"T_281aa_row4_col3\" class=\"data row4 col3\" >T</td>\n",
       "      <td id=\"T_281aa_row4_col4\" class=\"data row4 col4\" >0.000000</td>\n",
       "      <td id=\"T_281aa_row4_col5\" class=\"data row4 col5\" >.</td>\n",
       "      <td id=\"T_281aa_row4_col6\" class=\"data row4 col6\" >AC0;AS_VQSR</td>\n",
       "      <td id=\"T_281aa_row4_col7\" class=\"data row4 col7\" ><a target=\"_blank\" href=\"https://gnomad.broadinstitute.org/variant/1-29219-C-T?dataset=gnomad_r3\">https://gnomad.broadinstitute.org/variant/1-29219-C-T?dataset=gnomad_r3</a></td>\n",
       "    </tr>\n",
       "  </tbody>\n",
       "</table>\n"
      ],
      "text/plain": [
       "<pandas.io.formats.style.Styler at 0x7f6550fb8828>"
      ]
     },
     "metadata": {},
     "output_type": "display_data"
    }
   ],
   "source": [
    "old_AF = pd.concat([ get_chrom_variant(chrom, new=False) for chrom in chrom_list])\n",
    "show_table(old_AF.head())\n",
    "new_AF  = pd.concat([ get_chrom_variant(chrom, new=True) for chrom in chrom_list])\n",
    "show_table(new_AF.head())"
   ]
  },
  {
   "cell_type": "code",
   "execution_count": 4,
   "id": "935a7922",
   "metadata": {},
   "outputs": [
    {
     "data": {
      "image/png": "[encoded data removed]",
      "text/plain": [
       "<Figure size 576x432 with 1 Axes>"
      ]
     },
     "metadata": {
      "needs_background": "light"
     },
     "output_type": "display_data"
    }
   ],
   "source": [
    "plot_df = pd.DataFrame({'filter_Pass': [old_AF.shape[0],\n",
    "                        new_AF[new_AF['filter'].str.contains('PASS')].shape[0]],\n",
    "  'no_pass': [0, new_AF[~new_AF['filter'].str.contains('PASS')].shape[0],]},\n",
    "  index = ['current_AF_table', 'new_AF_table'])\n",
    "\n",
    "ax = plot_df.plot(kind = 'bar', stacked = True, figsize = (8, 6), rot=0)\n",
    "cur_p =  ax.patches[0]\n",
    "# annotatating the plot\n",
    "ax.annotate(f'{int(cur_p.get_height()):,}',\n",
    "                (cur_p.get_x() * 0.505,\n",
    "                 cur_p.get_height() * 1.005))\n",
    "ax.annotate(f'total: \\n{int(old_AF.shape[0]):,} \\n variants' ,\n",
    "                (cur_p.get_x() * 0.505,\n",
    "                 cur_p.get_height() * 1.005 / 2))\n",
    "\n",
    "ax.annotate(f'{int(cur_p.get_height()):,}',\n",
    "                (cur_p.get_x() * 0.505,\n",
    "                 cur_p.get_height() * 1.005))\n",
    "\n",
    "new_p = ax.patches[1]\n",
    "ax.annotate(f'{int(new_p.get_height()):,}',\n",
    "            (new_p.get_x() * 1.205,\n",
    "            new_p.get_height() * 1.005))\n",
    "\n",
    "new_p = ax.patches[1]\n",
    "ax.annotate(f'total: \\n{int(new_AF.shape[0]):,} \\n variants ',\n",
    "            (new_p.get_x() * 1.205,\n",
    "            new_p.get_height() * 1.005 / 2))\n",
    "\n",
    "non_fil_ax = ax.patches[3]\n",
    "ax.annotate(f'{int(non_fil_ax.get_height()):,}',\n",
    "            (non_fil_ax.get_x() * 1.205,\n",
    "            new_p.get_height() * 1.005 + non_fil_ax.get_height() * 1.005))\n",
    "x = ax.legend(loc='right',bbox_to_anchor=(1.1, 0.8),\n",
    "          fancybox=True, shadow=True)\n"
   ]
  },
  {
   "cell_type": "markdown",
   "id": "4ec5013a",
   "metadata": {},
   "source": [
    "The plot above show the amount of variants in the current used gnomAD AF table (the left bar) and the amount of variants in the new AF table (which contains the popmax AF). <br>\n",
    "The later contains more variants due to additional variants which did not pass the quality control.  <br>\n",
    "the numbers shows the same amount of variants which did pass the filter (22,668,854, blue). with additional 2,247,409   in the new table. <br>\n",
    "the new table contains another column, 'filter', which describe if the variant passed the filter ('PASS') or in which filtertaion the variant failed. description of the filters can be found [here](https://gnomad.broadinstitute.org/news/2019-10-gnomad-v3-0/) <br>\n",
    "\n",
    "Next I'll checck if there is a difference between the AF of the new table and the current.<br>\n",
    "a summry statistics of the difference in AF is shown below-"
   ]
  },
  {
   "cell_type": "code",
   "execution_count": 5,
   "id": "484b5c2e",
   "metadata": {},
   "outputs": [
    {
     "data": {
      "text/plain": [
       "count    22668854.0\n",
       "mean            0.0\n",
       "std             0.0\n",
       "min             0.0\n",
       "25%             0.0\n",
       "50%             0.0\n",
       "75%             0.0\n",
       "max             0.0\n",
       "Name: diffrence between new and current AF, dtype: float64"
      ]
     },
     "execution_count": 5,
     "metadata": {},
     "output_type": "execute_result"
    }
   ],
   "source": [
    "(old_AF.AF - new_AF[new_AF['filter'] == 'PASS'].AF.astype(float)).describe().rename('diffrence between new and current AF') "
   ]
  },
  {
   "cell_type": "markdown",
   "id": "7308f412",
   "metadata": {},
   "source": [
    "Both tables have the same AF for each variants (the general AF, not popmax) <br>\n",
    "***Therefore I consider the new table legit***\n",
    "\n",
    "## popmax  AF vs general AF\n",
    "\n",
    "In the following part I'll compare between the popmax AF and the general AF, such that we will get a notion what to expect from the analysis. I'll use only variants which passed gnomAD filteration"
   ]
  },
  {
   "cell_type": "code",
   "execution_count": 13,
   "id": "9baf95dc",
   "metadata": {},
   "outputs": [
    {
     "name": "stderr",
     "output_type": "stream",
     "text": [
      "/cs/usr/toozig/my_python/lib/python3.7/site-packages/pandas/core/indexing.py:1951: SettingWithCopyWarning: \n",
      "A value is trying to be set on a copy of a slice from a DataFrame.\n",
      "Try using .loc[row_indexer,col_indexer] = value instead\n",
      "\n",
      "See the caveats in the documentation: https://pandas.pydata.org/pandas-docs/stable/user_guide/indexing.html#returning-a-view-versus-a-copy\n",
      "  self.obj[selected_item_labels] = value\n"
     ]
    },
    {
     "data": {
      "text/html": [
       "<style type=\"text/css\">\n",
       "</style>\n",
       "<table id=\"T_2fbe0_\">\n",
       "  <thead>\n",
       "    <tr>\n",
       "      <th class=\"blank level0\" >&nbsp;</th>\n",
       "      <th class=\"col_heading level0 col0\" >CHROM</th>\n",
       "      <th class=\"col_heading level0 col1\" >POS</th>\n",
       "      <th class=\"col_heading level0 col2\" >REF</th>\n",
       "      <th class=\"col_heading level0 col3\" >ALT</th>\n",
       "      <th class=\"col_heading level0 col4\" >AF</th>\n",
       "      <th class=\"col_heading level0 col5\" >popmax_AF</th>\n",
       "      <th class=\"col_heading level0 col6\" >filter</th>\n",
       "      <th class=\"col_heading level0 col7\" >gnomAD</th>\n",
       "    </tr>\n",
       "  </thead>\n",
       "  <tbody>\n",
       "    <tr>\n",
       "      <th id=\"T_2fbe0_level0_row0\" class=\"row_heading level0 row0\" >0</th>\n",
       "      <td id=\"T_2fbe0_row0_col0\" class=\"data row0 col0\" >chr1</td>\n",
       "      <td id=\"T_2fbe0_row0_col1\" class=\"data row0 col1\" >29231</td>\n",
       "      <td id=\"T_2fbe0_row0_col2\" class=\"data row0 col2\" >GC</td>\n",
       "      <td id=\"T_2fbe0_row0_col3\" class=\"data row0 col3\" >G</td>\n",
       "      <td id=\"T_2fbe0_row0_col4\" class=\"data row0 col4\" >0.000235</td>\n",
       "      <td id=\"T_2fbe0_row0_col5\" class=\"data row0 col5\" >0.000717</td>\n",
       "      <td id=\"T_2fbe0_row0_col6\" class=\"data row0 col6\" >PASS</td>\n",
       "      <td id=\"T_2fbe0_row0_col7\" class=\"data row0 col7\" ><a target=\"_blank\" href=\"https://gnomad.broadinstitute.org/variant/1-29231-GC-G?dataset=gnomad_r3\">https://gnomad.broadinstitute.org/variant/1-29231-GC-G?dataset=gnomad_r3</a></td>\n",
       "    </tr>\n",
       "    <tr>\n",
       "      <th id=\"T_2fbe0_level0_row1\" class=\"row_heading level0 row1\" >1</th>\n",
       "      <td id=\"T_2fbe0_row1_col0\" class=\"data row1 col0\" >chr1</td>\n",
       "      <td id=\"T_2fbe0_row1_col1\" class=\"data row1 col1\" >29253</td>\n",
       "      <td id=\"T_2fbe0_row1_col2\" class=\"data row1 col2\" >C</td>\n",
       "      <td id=\"T_2fbe0_row1_col3\" class=\"data row1 col3\" >T</td>\n",
       "      <td id=\"T_2fbe0_row1_col4\" class=\"data row1 col4\" >0.000009</td>\n",
       "      <td id=\"T_2fbe0_row1_col5\" class=\"data row1 col5\" >nan</td>\n",
       "      <td id=\"T_2fbe0_row1_col6\" class=\"data row1 col6\" >PASS</td>\n",
       "      <td id=\"T_2fbe0_row1_col7\" class=\"data row1 col7\" ><a target=\"_blank\" href=\"https://gnomad.broadinstitute.org/variant/1-29253-C-T?dataset=gnomad_r3\">https://gnomad.broadinstitute.org/variant/1-29253-C-T?dataset=gnomad_r3</a></td>\n",
       "    </tr>\n",
       "    <tr>\n",
       "      <th id=\"T_2fbe0_level0_row2\" class=\"row_heading level0 row2\" >2</th>\n",
       "      <td id=\"T_2fbe0_row2_col0\" class=\"data row2 col0\" >chr1</td>\n",
       "      <td id=\"T_2fbe0_row2_col1\" class=\"data row2 col1\" >29257</td>\n",
       "      <td id=\"T_2fbe0_row2_col2\" class=\"data row2 col2\" >TC</td>\n",
       "      <td id=\"T_2fbe0_row2_col3\" class=\"data row2 col3\" >T</td>\n",
       "      <td id=\"T_2fbe0_row2_col4\" class=\"data row2 col4\" >0.000019</td>\n",
       "      <td id=\"T_2fbe0_row2_col5\" class=\"data row2 col5\" >0.000041</td>\n",
       "      <td id=\"T_2fbe0_row2_col6\" class=\"data row2 col6\" >PASS</td>\n",
       "      <td id=\"T_2fbe0_row2_col7\" class=\"data row2 col7\" ><a target=\"_blank\" href=\"https://gnomad.broadinstitute.org/variant/1-29257-TC-T?dataset=gnomad_r3\">https://gnomad.broadinstitute.org/variant/1-29257-TC-T?dataset=gnomad_r3</a></td>\n",
       "    </tr>\n",
       "    <tr>\n",
       "      <th id=\"T_2fbe0_level0_row3\" class=\"row_heading level0 row3\" >3</th>\n",
       "      <td id=\"T_2fbe0_row3_col0\" class=\"data row3 col0\" >chr1</td>\n",
       "      <td id=\"T_2fbe0_row3_col1\" class=\"data row3 col1\" >29257</td>\n",
       "      <td id=\"T_2fbe0_row3_col2\" class=\"data row3 col2\" >TCCCC...</td>\n",
       "      <td id=\"T_2fbe0_row3_col3\" class=\"data row3 col3\" >T</td>\n",
       "      <td id=\"T_2fbe0_row3_col4\" class=\"data row3 col4\" >0.000009</td>\n",
       "      <td id=\"T_2fbe0_row3_col5\" class=\"data row3 col5\" >nan</td>\n",
       "      <td id=\"T_2fbe0_row3_col6\" class=\"data row3 col6\" >PASS</td>\n",
       "      <td id=\"T_2fbe0_row3_col7\" class=\"data row3 col7\" ><a target=\"_blank\" href=\"https://gnomad.broadinstitute.org/variant/1-29257-TCCCCTACTTCGCCCCGCCAGGC-T?dataset=gnomad_r3\">https://gnomad.broadinstitute.org/variant/1-29257-TCCCCTACTTCGCCCCGCCAGGC-T?dataset=gnomad_r3</a></td>\n",
       "    </tr>\n",
       "    <tr>\n",
       "      <th id=\"T_2fbe0_level0_row4\" class=\"row_heading level0 row4\" >4</th>\n",
       "      <td id=\"T_2fbe0_row4_col0\" class=\"data row4 col0\" >chr1</td>\n",
       "      <td id=\"T_2fbe0_row4_col1\" class=\"data row4 col1\" >29267</td>\n",
       "      <td id=\"T_2fbe0_row4_col2\" class=\"data row4 col2\" >C</td>\n",
       "      <td id=\"T_2fbe0_row4_col3\" class=\"data row4 col3\" >G</td>\n",
       "      <td id=\"T_2fbe0_row4_col4\" class=\"data row4 col4\" >0.000016</td>\n",
       "      <td id=\"T_2fbe0_row4_col5\" class=\"data row4 col5\" >0.000054</td>\n",
       "      <td id=\"T_2fbe0_row4_col6\" class=\"data row4 col6\" >PASS</td>\n",
       "      <td id=\"T_2fbe0_row4_col7\" class=\"data row4 col7\" ><a target=\"_blank\" href=\"https://gnomad.broadinstitute.org/variant/1-29267-C-G?dataset=gnomad_r3\">https://gnomad.broadinstitute.org/variant/1-29267-C-G?dataset=gnomad_r3</a></td>\n",
       "    </tr>\n",
       "  </tbody>\n",
       "</table>\n"
      ],
      "text/plain": [
       "<pandas.io.formats.style.Styler at 0x7f653038af28>"
      ]
     },
     "metadata": {},
     "output_type": "display_data"
    }
   ],
   "source": [
    "passed_v = new_AF[new_AF['filter'] == 'PASS']\n",
    "passed_v.loc[:,'popmax_AF'] = passed_v.popmax_AF.replace('.',np.nan).astype('float')\n",
    "\n",
    "show_table(passed_v.head())"
   ]
  },
  {
   "cell_type": "markdown",
   "id": "d5a5e502",
   "metadata": {},
   "source": [
    "For some reason, the minimal AF described in the table is 6.56547e-06, when the AF is lower, it's written NaN.<br>\n",
    "3% of the variants have nan in thier popmax column. <br>\n",
    "in order to continue with the analysis, I'll replace np.nan with the minimal AF value.\n"
   ]
  },
  {
   "cell_type": "code",
   "execution_count": 50,
   "id": "94c20357",
   "metadata": {
    "scrolled": true
   },
   "outputs": [
    {
     "data": {
      "text/html": [
       "<div>\n",
       "<style scoped>\n",
       "    .dataframe tbody tr th:only-of-type {\n",
       "        vertical-align: middle;\n",
       "    }\n",
       "\n",
       "    .dataframe tbody tr th {\n",
       "        vertical-align: top;\n",
       "    }\n",
       "\n",
       "    .dataframe thead th {\n",
       "        text-align: right;\n",
       "    }\n",
       "</style>\n",
       "<table border=\"1\" class=\"dataframe\">\n",
       "  <thead>\n",
       "    <tr style=\"text-align: right;\">\n",
       "      <th></th>\n",
       "      <th>AF</th>\n",
       "      <th>popmax_AF</th>\n",
       "    </tr>\n",
       "  </thead>\n",
       "  <tbody>\n",
       "    <tr>\n",
       "      <th>count</th>\n",
       "      <td>2.266885e+07</td>\n",
       "      <td>2.266885e+07</td>\n",
       "    </tr>\n",
       "    <tr>\n",
       "      <th>mean</th>\n",
       "      <td>4.141386e-03</td>\n",
       "      <td>6.442932e-03</td>\n",
       "    </tr>\n",
       "    <tr>\n",
       "      <th>std</th>\n",
       "      <td>4.518580e-02</td>\n",
       "      <td>5.736595e-02</td>\n",
       "    </tr>\n",
       "    <tr>\n",
       "      <th>min</th>\n",
       "      <td>6.565470e-06</td>\n",
       "      <td>1.469330e-05</td>\n",
       "    </tr>\n",
       "    <tr>\n",
       "      <th>25%</th>\n",
       "      <td>6.571860e-06</td>\n",
       "      <td>1.515980e-05</td>\n",
       "    </tr>\n",
       "    <tr>\n",
       "      <th>50%</th>\n",
       "      <td>6.955460e-06</td>\n",
       "      <td>4.825790e-05</td>\n",
       "    </tr>\n",
       "    <tr>\n",
       "      <th>75%</th>\n",
       "      <td>2.628470e-05</td>\n",
       "      <td>1.940240e-04</td>\n",
       "    </tr>\n",
       "    <tr>\n",
       "      <th>max</th>\n",
       "      <td>1.000000e+00</td>\n",
       "      <td>1.000000e+00</td>\n",
       "    </tr>\n",
       "  </tbody>\n",
       "</table>\n",
       "</div>"
      ],
      "text/plain": [
       "                 AF     popmax_AF\n",
       "count  2.266885e+07  2.266885e+07\n",
       "mean   4.141386e-03  6.442932e-03\n",
       "std    4.518580e-02  5.736595e-02\n",
       "min    6.565470e-06  1.469330e-05\n",
       "25%    6.571860e-06  1.515980e-05\n",
       "50%    6.955460e-06  4.825790e-05\n",
       "75%    2.628470e-05  1.940240e-04\n",
       "max    1.000000e+00  1.000000e+00"
      ]
     },
     "execution_count": 50,
     "metadata": {},
     "output_type": "execute_result"
    }
   ],
   "source": [
    "passed_v = passed_v.replace(np.nan, passed_v[['AF','popmax_AF']].astype(float).min().min())\n",
    "plot_df = passed_v[['AF','popmax_AF']].astype(float)\n",
    "plot_df.describe()"
   ]
  },
  {
   "cell_type": "markdown",
   "id": "05ad7b49",
   "metadata": {},
   "source": [
    "The following shows a higher AF mean but a lower median of the popmax. "
   ]
  }
 ],
 "metadata": {
  "kernelspec": {
   "display_name": "Python 3 (ipykernel)",
   "language": "python",
   "name": "python3"
  },
  "language_info": {
   "codemirror_mode": {
    "name": "ipython",
    "version": 3
   },
   "file_extension": ".py",
   "mimetype": "text/x-python",
   "name": "python",
   "nbconvert_exporter": "python",
   "pygments_lexer": "ipython3",
   "version": "3.7.3"
  }
 },
 "nbformat": 4,
 "nbformat_minor": 5
}
