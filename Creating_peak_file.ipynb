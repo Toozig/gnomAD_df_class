{
 "cells": [
  {
   "cell_type": "code",
   "execution_count": 80,
   "id": "a9755ad2",
   "metadata": {},
   "outputs": [],
   "source": [
    "import pandas as pd\n",
    "import seaborn as sns\n",
    "import seaborn as sns\n",
    "import matplotlib.pyplot as plt\n",
    "import matplotlib.pyplot as plt\n",
    "from matplotlib_venn import venn2\n",
    "from upsetplot import UpSet, from_contents"
   ]
  },
  {
   "cell_type": "code",
   "execution_count": 81,
   "id": "0b13296c",
   "metadata": {},
   "outputs": [],
   "source": [
    "\n",
    "def plot_distribution(df, label_column='label', data_column='value'):\n",
    "    \"\"\"\n",
    "    Creates a distribution plot using Seaborn for a Pandas DataFrame with a label column.\n",
    "    \n",
    "    Args:\n",
    "    - df: Pandas DataFrame with a label column and numerical data.\n",
    "    - label_column: Name of the column containing the labels.\n",
    "    - data_column: Name of the column containing the data to plot.\n",
    "    \"\"\"\n",
    "    # Get the unique labels in the label column\n",
    "    labels = df[label_column].unique()\n",
    "    \n",
    "    # Set the figure size\n",
    "    plt.figure(figsize=(10, 5))\n",
    "    \n",
    "    # Loop through the labels and create a distribution plot for each one\n",
    "    for label in labels:\n",
    "        label_data = df[df[label_column] == label]\n",
    "        sns.kdeplot(label_data[data_column], label=label, shade=True)\n",
    "        \n",
    "    # Add axis labels and title\n",
    "    plt.xlabel(data_column.capitalize())\n",
    "    plt.ylabel('Density')\n",
    "    plt.title(f'Distribution of {data_column.capitalize()} by {label_column.capitalize()}')\n",
    "    \n",
    "    # Add a legend\n",
    "    plt.legend(labels)\n",
    "    \n",
    "    # Show the plot\n",
    "    plt.show()\n"
   ]
  },
  {
   "cell_type": "markdown",
   "id": "c6c1b6e4",
   "metadata": {},
   "source": [
    "This noteboke describe the process of creating the all peak file for extracting the AF of variant which can be found in one of the ATAC intervals from gnomAD <br>\n",
    "\n",
    "I am using the following files \n",
    "- hATAC - hATAC_Dec_05_22.csv \n",
    "- mATAC - mm10_to_hg38_processed_11_12_22.csv (renamed to 'mm10_hg38_cm_result.csv')\n",
    "- hATAC & mATAC - mATAC_hATAC_Dec_12_22.xlsx\n",
    "\n"
   ]
  },
  {
   "cell_type": "code",
   "execution_count": 82,
   "id": "556e5e95",
   "metadata": {
    "scrolled": true
   },
   "outputs": [],
   "source": [
    "hATAC = pd.read_csv('data/hATAC_Dec_05_22.csv', index_col=0)\n",
    "hATAC.columns = ['CHROM', 'FROM','TO','ID']\n",
    "hATAC.CHROM = 'chr' + hATAC.CHROM\n",
    "mATAC = pd.read_csv('data/mm10_hg38_cm_result.csv', index_col=0)\n",
    "mATAC.columns = ['CHROM', 'FROM','TO', 'start_idx','end_idx','ID','length']\n",
    "mATAC_hATAC = pd.read_excel('data/mATAC_hATAC_Dec_12_22.xlsx', index_col=0, engine='openpyxl')"
   ]
  },
  {
   "cell_type": "markdown",
   "id": "0aca8b15",
   "metadata": {},
   "source": [
    "there are 3 types of intervals:\n",
    "1. only found in human\n",
    "2. only found in mouse\n",
    "3. have intersection, therfore can be found in both\n",
    "\n",
    "to get 1 & 2 we cna look for id's of intervals of hATA/mATAC which can not be found in the intersection (hATAC & mATAC) <br>\n"
   ]
  },
  {
   "cell_type": "code",
   "execution_count": 102,
   "id": "4ec658e5",
   "metadata": {},
   "outputs": [
    {
     "name": "stdout",
     "output_type": "stream",
     "text": [
      "there are 15,938 unique intervals for the hATAC data\n",
      "there are 149,676 unique intervals for the mATAC data\n"
     ]
    }
   ],
   "source": [
    "only_human = hATAC[~hATAC.ID.isin(mATAC_hATAC.hATAC_id)]\n",
    "only_human['label'] = 'human'\n",
    "only_mouse = mATAC[~mATAC.ID.isin(mATAC_hATAC.mATAC_id)]\n",
    "only_mouse['label'] = 'mouse'\n",
    "print(f'there are {only_human.shape[0]:,} unique intervals for the hATAC data')\n",
    "print(f'there are {only_mouse.shape[0]:,} unique intervals for the mATAC data')"
   ]
  },
  {
   "cell_type": "markdown",
   "id": "147e57e0",
   "metadata": {},
   "source": [
    "Type 3, intervals with intersection, are all intervals in the hATAC & mATAC file. <br> for them, we decided to take the minimum start point and the maximal end point between the intersected intervals."
   ]
  },
  {
   "cell_type": "code",
   "execution_count": 84,
   "id": "3faaf646",
   "metadata": {},
   "outputs": [],
   "source": [
    "func = lambda row : pd.Series({'CHROM':'chr' + row.chrom,\n",
    "                              'FROM':min([row.hATAC_start, row.mATAC_start]),\n",
    "                              'TO' :max([row.hATAC_end, row.mATAC_end]),\n",
    "                              'ID' : row.new_id})\n",
    "both = mATAC_hATAC.apply(func,axis=1)\n",
    "# "
   ]
  },
  {
   "cell_type": "code",
   "execution_count": 95,
   "id": "3b564a71",
   "metadata": {},
   "outputs": [],
   "source": [
    "both = both.groupby(['CHROM','FROM','TO']).ID.sum().reset_index()\n",
    "both['label'] = 'both'"
   ]
  },
  {
   "cell_type": "markdown",
   "id": "ed27e1ac",
   "metadata": {},
   "source": [
    "Now we will create  a single dataframe which contains all the intervals, and is sorted by chromosom and positions"
   ]
  },
  {
   "cell_type": "code",
   "execution_count": 103,
   "id": "fc80bd6d",
   "metadata": {},
   "outputs": [],
   "source": [
    "combined_interval_df = pd.concat([only_human,only_mouse,both]).iloc[:,:4] # dropping the original mouse interval id"
   ]
  },
  {
   "cell_type": "code",
   "execution_count": 97,
   "id": "e6b0fd8f",
   "metadata": {},
   "outputs": [],
   "source": [
    "\n",
    "# # sorting the df\n",
    "combined_interval_df = combined_interval_df.sort_values(['CHROM','FROM'])\n",
    "combined_interval_df['length'] = combined_interval_df.TO - combined_interval_df.FROM"
   ]
  },
  {
   "cell_type": "markdown",
   "id": "fbc6e5a0",
   "metadata": {},
   "source": [
    "# summary"
   ]
  },
  {
   "cell_type": "code",
   "execution_count": 101,
   "id": "9ea8ff6c",
   "metadata": {
    "scrolled": true
   },
   "outputs": [
    {
     "name": "stdout",
     "output_type": "stream",
     "text": [
      "The combined peak table contains 193,680 intervals\n",
      "15,938 found unique in the hATAC\n",
      "149,676 found unique in the mATAC\n",
      "28,066 found in both\n",
      "there are total 193,680 intervals\n"
     ]
    }
   ],
   "source": [
    "print(f'The combined peak table contains {combined_interval_df.shape[0]:,} intervals')\n",
    "print(f'{only_human.shape[0]:,} found unique in the hATAC')\n",
    "print(f'{only_mouse.shape[0]:,} found unique in the mATAC')\n",
    "print(f'{both.shape[0]:,} found in both')\n",
    "print(f'there are total {only_human.shape[0] + only_mouse.shape[0] + both.shape[0]:,} intervals')"
   ]
  },
  {
   "cell_type": "markdown",
   "id": "ebe517a2",
   "metadata": {},
   "source": [
    "# sanity check\n",
    "Here I check if the full interval list was sent into the bcftools pipeline <br>\n",
    "in order to do so - I concat the frame i did above with the dataframe which was sent to the pipeline. <br>\n",
    "then I'll remove all duplicates. If the frame after the removal have rows - it means they are missing from the frame above OR they werent included in the pipeline. <br>\n",
    "If it happenes, I'll act accordignly"
   ]
  },
  {
   "cell_type": "code",
   "execution_count": null,
   "id": "5f4e81a6",
   "metadata": {},
   "outputs": [],
   "source": [
    "cur_peak = pd.read_csv('data/peak_bcftools_format.tsv', sep='\\t',names=['CHROM','FROM','TO'])\n",
    "pd.concat([cur_peak,combined_interval_df[['CHROM','FROM','TO']]]).drop_duplicates(keep=False)"
   ]
  },
  {
   "cell_type": "markdown",
   "id": "ea1cfe4d",
   "metadata": {},
   "source": [
    "luckly the table is empty, hence all intervals were included in the pipeline"
   ]
  },
  {
   "cell_type": "markdown",
   "id": "07ad5d93",
   "metadata": {},
   "source": [
    "# vizualization"
   ]
  },
  {
   "cell_type": "code",
   "execution_count": 77,
   "id": "21b3c70b",
   "metadata": {},
   "outputs": [],
   "source": [
    "\n",
    "plot_df = pd.concat([only_human,only_mouse,both]).iloc[:,:5].reset_index(drop=True)\n",
    "plot_df['length'] = plot_df.TO - plot_df.FROM"
   ]
  },
  {
   "cell_type": "markdown",
   "id": "f6276d00",
   "metadata": {},
   "source": [
    "The plot below show's the length distribution of each ATAC result & the common intervals"
   ]
  },
  {
   "cell_type": "code",
   "execution_count": 75,
   "id": "2c715793",
   "metadata": {},
   "outputs": [
    {
     "data": {
      "image/png": "[encoded data removed]",
      "text/plain": [
       "<Figure size 720x360 with 1 Axes>"
      ]
     },
     "metadata": {
      "needs_background": "light"
     },
     "output_type": "display_data"
    }
   ],
   "source": [
    "plot_distribution(plot_df, label_column='label', data_column='length')"
   ]
  },
  {
   "cell_type": "markdown",
   "id": "7b9f85ed",
   "metadata": {},
   "source": [
    "The interval mapping between mATAC interval & hATAC interval is not injective function, hence a hATAC interval can overlap with two mATAC intervals, simple venn diagram can not describe the shared peaks in an accurate way. <br>\n",
    "the upstream plot below shows the unique and shared amount of intervals."
   ]
  },
  {
   "cell_type": "code",
   "execution_count": 78,
   "id": "3274141d",
   "metadata": {
    "scrolled": true
   },
   "outputs": [
    {
     "data": {
      "image/png": "[encoded data removed]",
      "text/plain": [
       "<Figure size 256x256 with 4 Axes>"
      ]
     },
     "metadata": {
      "needs_background": "light"
     },
     "output_type": "display_data"
    }
   ],
   "source": [
    "\n",
    "label_dict = {'mouse': plot_df[plot_df.label == 'mouse'].ID.tolist() + plot_df[plot_df.label == 'both'].ID.tolist(),\n",
    "              'human': plot_df[plot_df.label == 'human'].ID.tolist() + plot_df[plot_df.label == 'both'].ID.tolist()}\n",
    "\n",
    "plt = UpSet(from_contents(label_dict), \n",
    "            subset_size='count', \n",
    "            min_subset_size=0 ,\n",
    "            show_counts=True,\n",
    "            show_percentages=True).plot()        "
   ]
  },
  {
   "cell_type": "markdown",
   "id": "dd18ec90",
   "metadata": {},
   "source": [
    "The Venn diagram below shows the same as above but in measurment of base pairs. <br>\n"
   ]
  },
  {
   "cell_type": "code",
   "execution_count": 74,
   "id": "aff8379c",
   "metadata": {},
   "outputs": [
    {
     "data": {
      "image/png": "[encoded data removed]",
      "text/plain": [
       "<Figure size 432x288 with 1 Axes>"
      ]
     },
     "metadata": {},
     "output_type": "display_data"
    }
   ],
   "source": [
    "\n",
    "both =  mATAC_hATAC.overlap_len.sum()\n",
    "men_unique =  (hATAC.TO - hATAC.FROM).sum() - both\n",
    "mouse_unique = mATAC.length.sum() - both\n",
    "    \n",
    "# First way to call the 2 group Venn diagram:\n",
    "human_label = f'human \\n total {both + men_unique:,} bp'\n",
    "mouse_label = f'mouse \\n total {both + mouse_unique:,} bp'\n",
    "venn2(subsets = (men_unique, mouse_unique, both), set_labels = (human_label, mouse_label))\n",
    "plt.show()"
   ]
  }
 ],
 "metadata": {
  "kernelspec": {
   "display_name": "dev-venv",
   "language": "python",
   "name": "dev-venv"
  },
  "language_info": {
   "codemirror_mode": {
    "name": "ipython",
    "version": 3
   },
   "file_extension": ".py",
   "mimetype": "text/x-python",
   "name": "python",
   "nbconvert_exporter": "python",
   "pygments_lexer": "ipython3",
   "version": "3.7.3"
  }
 },
 "nbformat": 4,
 "nbformat_minor": 5
}
