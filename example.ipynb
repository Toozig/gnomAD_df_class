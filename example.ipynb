{
 "cells": [
  {
   "cell_type": "markdown",
   "id": "923c88f6",
   "metadata": {},
   "source": [
    "# GnomAD_df class use example\n",
    "After each cell There is an explanation of what it is doing"
   ]
  },
  {
   "cell_type": "code",
   "execution_count": 1,
   "id": "13a09e1d",
   "metadata": {},
   "outputs": [],
   "source": [
    "import sys \n",
    "import os\n",
    "sys.path.append(os.path.abspath(\"code\"))\n",
    "from GnomAD_df_class import GnomAD_df\n"
   ]
  },
  {
   "cell_type": "markdown",
   "id": "0dd76536",
   "metadata": {},
   "source": [
    "### explanation:\n",
    "The first two imports are only for loading the class from it's location.<br> they are not necessery"
   ]
  },
  {
   "cell_type": "code",
   "execution_count": null,
   "id": "52fd4f01",
   "metadata": {},
   "outputs": [],
   "source": [
    "gdf = GnomAD_df(path='data/main.prq',\n",
    "                peak_file='data/hATAC_mATAC_peak.bed.gz',\n",
    "                remove_unkown=True,\n",
    "                remove_phased_gt=True,\n",
    "                only_peak_variants=True)\n",
    "gdf.get_table().head()"
   ]
  },
  {
   "cell_type": "markdown",
   "id": "835bbadc",
   "metadata": {},
   "source": [
    "### Explanation:\n",
    "The class constructor have only one mandatory variable, the path to the parquet file. <br>\n",
    "the rest of the argument, except the peak_file (it can be left empty), are the deafult argument. <br>\n",
    "Variable description:<br>\n",
    "- peak_file - bed file which contains the following columns - CHROM,FROM,TO,INTERVAL_ID,  (w/o header)\n",
    "- remove_unknown - add a filter which removes unkwon genotypes (e.g \"./.\")' \n",
    "- remove_phased_gt -  add a filter which replace phased genotype (e.g \"0|1\" -> \"0/1\")\n",
    "- only_peak_variants -  add a filter which removes variants outside of peak interval \n",
    "<br>\n",
    "\n",
    "Whenever get_table or any other function that requeires to apply the filters, only then the class creates a sub dataframe which the filters apllied on it. <br>\n",
    "During the filteration process, the filter's descriptions will be printed, unless verbos=False. <br>"
   ]
  },
  {
   "cell_type": "code",
   "execution_count": null,
   "id": "ddac9c06",
   "metadata": {},
   "outputs": [],
   "source": [
    "gdf.reset_table(remove_phased_gt=False,\n",
    "    remove_unkown=False,\n",
    "    only_peak_variants=False)\n",
    "gdf.get_table().head()\n"
   ]
  },
  {
   "cell_type": "markdown",
   "id": "1d40ca64",
   "metadata": {},
   "source": [
    "### Explanation:\n",
    "In the cell below, No filter was applied. The original table is shown. <br>\n",
    "Now lets filter it up!"
   ]
  },
  {
   "cell_type": "code",
   "execution_count": null,
   "id": "c62e2409",
   "metadata": {},
   "outputs": [],
   "source": [
    "gdf.remove_non_peak_variants()\n",
    "gdf.remove_phasing()\n",
    "gdf.remove_unkown()\n",
    "gdf.get_table().head()"
   ]
  },
  {
   "cell_type": "markdown",
   "id": "dd8e26db",
   "metadata": {},
   "source": [
    "### Explanation:\n",
    "Magic! We got the same table from 2 cells ago! <br>\n",
    "Notice that the order of filteration changed. This is important, if we would like to remove a filter, we can do it by it's index. <br>\n",
    "Of course there is a simple way to know the filters index..."
   ]
  },
  {
   "cell_type": "code",
   "execution_count": null,
   "id": "14833cfb",
   "metadata": {},
   "outputs": [],
   "source": [
    "gdf.reset_table(remove_phased_gt=False,\n",
    "    remove_unkown=False,\n",
    "    only_peak_variants=False)\n",
    "gdf.print_filters()\n"
   ]
  }
 ],
 "metadata": {
  "kernelspec": {
   "display_name": "dev-venv",
   "language": "python",
   "name": "dev-venv"
  },
  "language_info": {
   "codemirror_mode": {
    "name": "ipython",
    "version": 3
   },
   "file_extension": ".py",
   "mimetype": "text/x-python",
   "name": "python",
   "nbconvert_exporter": "python",
   "pygments_lexer": "ipython3",
   "version": "3.7.3"
  }
 },
 "nbformat": 4,
 "nbformat_minor": 5
}
