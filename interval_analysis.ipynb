{
 "cells": [
  {
   "cell_type": "code",
   "execution_count": 7,
   "id": "41ca440e",
   "metadata": {},
   "outputs": [],
   "source": [
    "import pandas as pd\n",
    "\n",
    "from matplotlib import pyplot as plt\n",
    "import numpy as np\n",
    "from matplotlib_venn import venn2, venn2_circles\n"
   ]
  },
  {
   "cell_type": "code",
   "execution_count": 2,
   "id": "3fc90fe2",
   "metadata": {},
   "outputs": [],
   "source": [
    "peak_path = 'data/hATAC_mATAC_peak.bed.gz'"
   ]
  },
  {
   "cell_type": "markdown",
   "id": "638b4ca9",
   "metadata": {},
   "source": [
    "[common intervals] (#common)"
   ]
  },
  {
   "cell_type": "markdown",
   "id": "722a212b",
   "metadata": {},
   "source": [
    "# Interval analysis\n",
    "The following notebook analyse the gnomical intervals which were obtained with ATAC expiremint. one on human cells (hATAC) and other on mouse (mATAC). <br>\n",
    "\n",
    "\n",
    "Table of content :\n",
    "- common intervals-<br> Check how many unique and common interval the ATAC seq of each experiment outputed\n",
    "- length analysis- <br> Analyse how many common and unique basepair each expriment have\n",
    "\n",
    "## pre-procesing the data"
   ]
  },
  {
   "cell_type": "code",
   "execution_count": 4,
   "id": "810ada53",
   "metadata": {
    "scrolled": false
   },
   "outputs": [
    {
     "data": {
      "text/html": [
       "<div>\n",
       "<style scoped>\n",
       "    .dataframe tbody tr th:only-of-type {\n",
       "        vertical-align: middle;\n",
       "    }\n",
       "\n",
       "    .dataframe tbody tr th {\n",
       "        vertical-align: top;\n",
       "    }\n",
       "\n",
       "    .dataframe thead th {\n",
       "        text-align: right;\n",
       "    }\n",
       "</style>\n",
       "<table border=\"1\" class=\"dataframe\">\n",
       "  <thead>\n",
       "    <tr style=\"text-align: right;\">\n",
       "      <th></th>\n",
       "      <th>CHROM</th>\n",
       "      <th>FROM</th>\n",
       "      <th>TO</th>\n",
       "      <th>ID</th>\n",
       "      <th>length</th>\n",
       "      <th>label</th>\n",
       "    </tr>\n",
       "  </thead>\n",
       "  <tbody>\n",
       "    <tr>\n",
       "      <th>16</th>\n",
       "      <td>chr1</td>\n",
       "      <td>958473</td>\n",
       "      <td>959544</td>\n",
       "      <td>mATAC_hATAC_0</td>\n",
       "      <td>1071</td>\n",
       "      <td>both</td>\n",
       "    </tr>\n",
       "    <tr>\n",
       "      <th>17</th>\n",
       "      <td>chr1</td>\n",
       "      <td>959935</td>\n",
       "      <td>961478</td>\n",
       "      <td>mATAC_hATAC_1</td>\n",
       "      <td>1543</td>\n",
       "      <td>both</td>\n",
       "    </tr>\n",
       "    <tr>\n",
       "      <th>18</th>\n",
       "      <td>chr1</td>\n",
       "      <td>966167</td>\n",
       "      <td>967355</td>\n",
       "      <td>mATAC_hATAC_2</td>\n",
       "      <td>1188</td>\n",
       "      <td>both</td>\n",
       "    </tr>\n",
       "    <tr>\n",
       "      <th>27</th>\n",
       "      <td>chr1</td>\n",
       "      <td>1019132</td>\n",
       "      <td>1021475</td>\n",
       "      <td>mATAC_hATAC_4</td>\n",
       "      <td>2343</td>\n",
       "      <td>both</td>\n",
       "    </tr>\n",
       "    <tr>\n",
       "      <th>28</th>\n",
       "      <td>chr1</td>\n",
       "      <td>1024575</td>\n",
       "      <td>1025576</td>\n",
       "      <td>mATAC_hATAC_6</td>\n",
       "      <td>1001</td>\n",
       "      <td>both</td>\n",
       "    </tr>\n",
       "    <tr>\n",
       "      <th>...</th>\n",
       "      <td>...</td>\n",
       "      <td>...</td>\n",
       "      <td>...</td>\n",
       "      <td>...</td>\n",
       "      <td>...</td>\n",
       "      <td>...</td>\n",
       "    </tr>\n",
       "    <tr>\n",
       "      <th>193643</th>\n",
       "      <td>chrX</td>\n",
       "      <td>155026448</td>\n",
       "      <td>155027585</td>\n",
       "      <td>mATAC_hATAC_39908</td>\n",
       "      <td>1137</td>\n",
       "      <td>both</td>\n",
       "    </tr>\n",
       "    <tr>\n",
       "      <th>193645</th>\n",
       "      <td>chrX</td>\n",
       "      <td>155070025</td>\n",
       "      <td>155072116</td>\n",
       "      <td>mATAC_hATAC_39909</td>\n",
       "      <td>2091</td>\n",
       "      <td>both</td>\n",
       "    </tr>\n",
       "    <tr>\n",
       "      <th>193647</th>\n",
       "      <td>chrX</td>\n",
       "      <td>155215721</td>\n",
       "      <td>155217297</td>\n",
       "      <td>mATAC_hATAC_39910</td>\n",
       "      <td>1576</td>\n",
       "      <td>both</td>\n",
       "    </tr>\n",
       "    <tr>\n",
       "      <th>193649</th>\n",
       "      <td>chrX</td>\n",
       "      <td>155263741</td>\n",
       "      <td>155264697</td>\n",
       "      <td>mATAC_hATAC_39912</td>\n",
       "      <td>956</td>\n",
       "      <td>both</td>\n",
       "    </tr>\n",
       "    <tr>\n",
       "      <th>193668</th>\n",
       "      <td>chrY</td>\n",
       "      <td>13478201</td>\n",
       "      <td>13480399</td>\n",
       "      <td>mATAC_hATAC_39981</td>\n",
       "      <td>2198</td>\n",
       "      <td>both</td>\n",
       "    </tr>\n",
       "  </tbody>\n",
       "</table>\n",
       "<p>28066 rows × 6 columns</p>\n",
       "</div>"
      ],
      "text/plain": [
       "       CHROM       FROM         TO                 ID  length label\n",
       "16      chr1     958473     959544      mATAC_hATAC_0    1071  both\n",
       "17      chr1     959935     961478      mATAC_hATAC_1    1543  both\n",
       "18      chr1     966167     967355      mATAC_hATAC_2    1188  both\n",
       "27      chr1    1019132    1021475      mATAC_hATAC_4    2343  both\n",
       "28      chr1    1024575    1025576      mATAC_hATAC_6    1001  both\n",
       "...      ...        ...        ...                ...     ...   ...\n",
       "193643  chrX  155026448  155027585  mATAC_hATAC_39908    1137  both\n",
       "193645  chrX  155070025  155072116  mATAC_hATAC_39909    2091  both\n",
       "193647  chrX  155215721  155217297  mATAC_hATAC_39910    1576  both\n",
       "193649  chrX  155263741  155264697  mATAC_hATAC_39912     956  both\n",
       "193668  chrY   13478201   13480399  mATAC_hATAC_39981    2198  both\n",
       "\n",
       "[28066 rows x 6 columns]"
      ]
     },
     "execution_count": 4,
     "metadata": {},
     "output_type": "execute_result"
    }
   ],
   "source": [
    "peak_df = pd.read_csv(peak_path, sep='\\t',header=None, names=['CHROM','FROM','TO','ID'])\n",
    "peak_df['length'] = peak_df.TO - peak_df.FROM\n",
    "peak_df.head()\n",
    "peak_df['label'] = 'hATAC'\n",
    "peak_df.loc[peak_df.ID.str.contains('CM'),'label'] = 'mATAC'\n",
    "peak_df.loc[peak_df.ID.str.contains('mATAC') & peak_df.ID.str.contains('hATAC'),'label'] = 'both'\n",
    "peak_df[peak_df.label == 'both']"
   ]
  },
  {
   "cell_type": "markdown",
   "id": "98af893a",
   "metadata": {},
   "source": [
    "## common intervals <a class='anchor' id='common'></a>\n",
    "The shared amount of intervals between hATAC to mATAC"
   ]
  },
  {
   "cell_type": "code",
   "execution_count": 12,
   "id": "65381a6e",
   "metadata": {},
   "outputs": [
    {
     "data": {
      "image/png": "[encoded data removed]",
      "text/plain": [
       "<Figure size 720x432 with 1 Axes>"
      ]
     },
     "metadata": {},
     "output_type": "display_data"
    }
   ],
   "source": [
    "label_count = peak_df.label.value_counts()\n",
    "plt.figure(figsize=(10,6))\n",
    "v = venn2(subsets=(label_count.mATAC, label_count.hATAC, label_count.both), set_labels = (f'mATAC \\n (177742 total)',\n",
    "                                                                                          f'hATAC \\n (44,004 total)'))\n",
    "v.get_label_by_id('10').set_text('149,676')\n",
    "v.get_label_by_id('01').set_text('15,938')\n",
    "v.get_label_by_id('11').set_text('28,066')\n"
   ]
  },
  {
   "cell_type": "markdown",
   "id": "6f692b81",
   "metadata": {},
   "source": [
    "## length analysis <a class='anchor' id='length'></a>\n",
    "\n",
    "the shared amount of BP between hATAC to mATAC"
   ]
  },
  {
   "cell_type": "code",
   "execution_count": 13,
   "id": "37a80269",
   "metadata": {
    "scrolled": false
   },
   "outputs": [
    {
     "data": {
      "image/png": "[encoded data removed]",
      "text/plain": [
       "<Figure size 720x432 with 1 Axes>"
      ]
     },
     "metadata": {},
     "output_type": "display_data"
    }
   ],
   "source": [
    "length_sum =  peak_df.groupby('label').length.sum()\n",
    "\n",
    "# v = venn2(subsets=(length_sum.mATAC, length_sum.hATAC, length_sum.both),\n",
    "#            set_labels = (f'mATAC \\n ({length_sum.mATAC +length_sum.both} total)',\n",
    "#                         f'hATAC \\n ({length_sum.hATAC +length_sum.both} total)'))\n",
    "plt.figure(figsize=(10,6))\n",
    "v = venn2(subsets=(length_sum.mATAC, length_sum.hATAC, length_sum.both),\n",
    "           set_labels = (f'mATAC \\n (74,869,519 total)',\n",
    "                        f'hATAC \\n (65,234,445 total)'))\n",
    "v.get_label_by_id('10').set_text('29,508,789')\n",
    "v.get_label_by_id('01').set_text('19,873,715')\n",
    "v.get_label_by_id('11').set_text('45,360,730')"
   ]
  }
 ],
 "metadata": {
  "kernelspec": {
   "display_name": "dev-venv",
   "language": "python",
   "name": "dev-venv"
  },
  "language_info": {
   "codemirror_mode": {
    "name": "ipython",
    "version": 3
   },
   "file_extension": ".py",
   "mimetype": "text/x-python",
   "name": "python",
   "nbconvert_exporter": "python",
   "pygments_lexer": "ipython3",
   "version": "3.7.3"
  }
 },
 "nbformat": 4,
 "nbformat_minor": 5
}
