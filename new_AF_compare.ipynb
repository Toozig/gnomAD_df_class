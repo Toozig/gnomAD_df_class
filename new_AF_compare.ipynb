{
 "cells": [
  {
   "cell_type": "markdown",
   "id": "17f6e448",
   "metadata": {},
   "source": [
    "### ***UPDATE 06.03***  <a class='anchor' id='update'> </a> \n",
    "All chromosome were processed with the new pipline"
   ]
  },
  {
   "cell_type": "code",
   "execution_count": 1,
   "id": "17e6d525",
   "metadata": {},
   "outputs": [],
   "source": [
    "import sys\n",
    "import os\n",
    "sys.path.append(os.path.abspath(\"code\"))\n",
    "# these are  needed-\n",
    "import pandas as pd\n",
    "import numpy as np\n",
    "from GnomAD_df_class import GnomAD_df\n",
    "pd.set_option('display.max_colwidth', 5000)"
   ]
  },
  {
   "cell_type": "code",
   "execution_count": 2,
   "id": "78de3cfe",
   "metadata": {},
   "outputs": [],
   "source": [
    "chrom_list = ['chr1', \"chr2\", \"chr4\",\"chr3\",\"chr5\", \"chr6\", \"chr7\",\"chr8\",\"chr9\",\"chr10\",\"chr11\",\"chr12\",\"chr13\",\"chr14\",\"chr15\",\"chr16\",\"chr17\",\"chr18\",\"chr19\", \"chr20\", \"chr21\", \"chr22\", \"chrX\", \"chrY\"]\n",
    "def get_new_chrom_variant(chrom):\n",
    "    \"\"\"\n",
    "    opens the new generated AF variant file \n",
    "    \"\"\"\n",
    "    df = pd.read_csv(f'data/gnomAD_AF/{chrom}_gnomAD_AF.tsv', sep='\\t', header=None).loc[:,:4]\n",
    "    df.columns = ['CHROM','POS','REF','ALT','NEW_AF']\n",
    "    return df.set_index(['CHROM','POS','REF','ALT'])\n",
    "\n",
    "def add_gnomAD_link(df):\n",
    "    df = df.reset_index()\n",
    "    links = []\n",
    "    for i, row in df.iterrows():\n",
    "        links.append(f\"https://gnomad.broadinstitute.org/variant/{row.CHROM.replace('chr','')}-{row.POS}-{row.REF}-{row.ALT}?dataset=gnomad_r3\")\n",
    "    df['gnomAD'] = links\n",
    "    func = lambda x: x if len(x) <= 5 else x[:5] + '...'\n",
    "    df.REF = df.REF.apply(func)\n",
    "    df.ALT = df.ALT.apply(func)\n",
    "    return df\n",
    "\n",
    "\n",
    "def make_clickable(val):\n",
    "    # target _blank to open new window\n",
    "    return '<a target=\"_blank\" href=\"{}\">{}</a>'.format(val, val)"
   ]
  },
  {
   "cell_type": "markdown",
   "id": "1f5c1208",
   "metadata": {},
   "source": [
    "\n",
    "# Piplelines comparation\n",
    "\n",
    "On the 1/3/2023 we noticed some of the samples do not have gnomAD's alleles frequencey (AF), Although it can be found on the website. <br>\n",
    "\n",
    "In order to fix it, the script 'get_gnomAD_AF.sh', was applied. it can be found under \"code folder   <br>\n",
    "to run it, the following command was applied\n",
    ">```bash\n",
    ">sbatch --mem 8G --killable --requeue -c 4 --array=0-23 -t 72:00:00 --wrap \"code/get_gnomAD_AF.sh\"\n",
    ">```\n",
    "\n",
    "<br>\n",
    "The job is killable due the useage of all the lab resources on the cluster. it means the job have low priority. <br>\n",
    "The following chromosmes ended the scripts without errors: <br>\n",
    "\n",
    "- chr1\n",
    "- chr2\n",
    "- chr3\n",
    "- chr4\n",
    "- chr5\n",
    "- chr6\n",
    "- chr7\n",
    "- chr8\n",
    "- chr9\n",
    "- chr10\n",
    "- chr11\n",
    "- chr12\n",
    "- chr13\n",
    "- chr14\n",
    "- chr15\n",
    "- chr16\n",
    "- chr17\n",
    "- chr18\n",
    "- chr19\n",
    "- chr20\n",
    "- chr21\n",
    "- chr22\n",
    "- chrX\n",
    "- chrY\n",
    "\n",
    "while the reset reported **bgzf_read_block**. The \"bgzf_read_block\" error in bcftools usually indicates a problem with reading compressed data blocks in a BGZF file. <br>\n",
    "there are two possible explanation for the error: <br> \n",
    "1. corrupt file\n",
    "2. insufficient disk space or memory errors\n",
    "\n",
    "Since we are using a file which is largely in use worldwide, the 2nd option is more likely, killable flag or insufficient memory given to the command.<br>\n",
    "\n",
    "\n",
    "In the following part, I'll compare between the current AF to the new generated (w/o errors). <br>\n",
    "\n",
    "First a table which contains AF from the current df and new one will be generated\n",
    "\n"
   ]
  },
  {
   "cell_type": "code",
   "execution_count": 3,
   "id": "d04ee041",
   "metadata": {
    "scrolled": true
   },
   "outputs": [
    {
     "name": "stdout",
     "output_type": "stream",
     "text": [
      "applying filters\n",
      "removing variants outside of peak interval\n",
      "done\n",
      "getting table\n"
     ]
    }
   ],
   "source": [
    "# creating a table which contains the current AF column and the new AF column\n",
    "# loading the current DF\n",
    "current_df = GnomAD_df('data/main.prq',remove_unkown=False, remove_phased_gt=False).get_table() #removing filters to sabe time\n",
    "AF_df = current_df[['AF']].dropna()\n",
    "new_df = pd.concat([ get_new_chrom_variant(chrom) for chrom in chrom_list])\n",
    "AF_df = pd.concat([AF_df, new_df], axis=1).reset_index()\n",
    "AF_df = AF_df[AF_df.CHROM.isin(chrom_list)]\n",
    "                  "
   ]
  },
  {
   "cell_type": "markdown",
   "id": "f8048e0b",
   "metadata": {},
   "source": [
    "## REMEMBER - The analysis is only chromosome which completed the new pipeline w/o errore, therefore the difference in numbers --see [update](#update)\n",
    "\n",
    "### common variants\n",
    "Lets look on variants which appear in both of the pipeline"
   ]
  },
  {
   "cell_type": "code",
   "execution_count": 4,
   "id": "9f917c8c",
   "metadata": {},
   "outputs": [
    {
     "data": {
      "text/plain": [
       "total_variants    126150\n",
       "same_AF           126150\n",
       "different_AF           0\n",
       "dtype: int64"
      ]
     },
     "metadata": {},
     "output_type": "display_data"
    },
    {
     "name": "stdout",
     "output_type": "stream",
     "text": [
      "the table below give a sample of 10 variants which appear in both piple line with link to the variant gnomAD page-\n"
     ]
    },
    {
     "data": {
      "text/html": [
       "<style type=\"text/css\">\n",
       "</style>\n",
       "<table id=\"T_55011_\">\n",
       "  <thead>\n",
       "    <tr>\n",
       "      <th class=\"blank level0\" >&nbsp;</th>\n",
       "      <th class=\"col_heading level0 col0\" >CHROM</th>\n",
       "      <th class=\"col_heading level0 col1\" >POS</th>\n",
       "      <th class=\"col_heading level0 col2\" >REF</th>\n",
       "      <th class=\"col_heading level0 col3\" >ALT</th>\n",
       "      <th class=\"col_heading level0 col4\" >AF</th>\n",
       "      <th class=\"col_heading level0 col5\" >NEW_AF</th>\n",
       "      <th class=\"col_heading level0 col6\" >gnomAD</th>\n",
       "    </tr>\n",
       "  </thead>\n",
       "  <tbody>\n",
       "    <tr>\n",
       "      <th id=\"T_55011_level0_row0\" class=\"row_heading level0 row0\" >0</th>\n",
       "      <td id=\"T_55011_row0_col0\" class=\"data row0 col0\" >chr1</td>\n",
       "      <td id=\"T_55011_row0_col1\" class=\"data row0 col1\" >64912759</td>\n",
       "      <td id=\"T_55011_row0_col2\" class=\"data row0 col2\" >T</td>\n",
       "      <td id=\"T_55011_row0_col3\" class=\"data row0 col3\" >C</td>\n",
       "      <td id=\"T_55011_row0_col4\" class=\"data row0 col4\" >0.000171</td>\n",
       "      <td id=\"T_55011_row0_col5\" class=\"data row0 col5\" >0.000171</td>\n",
       "      <td id=\"T_55011_row0_col6\" class=\"data row0 col6\" ><a target=\"_blank\" href=\"https://gnomad.broadinstitute.org/variant/1-64912759-T-C?dataset=gnomad_r3\">https://gnomad.broadinstitute.org/variant/1-64912759-T-C?dataset=gnomad_r3</a></td>\n",
       "    </tr>\n",
       "    <tr>\n",
       "      <th id=\"T_55011_level0_row1\" class=\"row_heading level0 row1\" >1</th>\n",
       "      <td id=\"T_55011_row1_col0\" class=\"data row1 col0\" >chr10</td>\n",
       "      <td id=\"T_55011_row1_col1\" class=\"data row1 col1\" >113705225</td>\n",
       "      <td id=\"T_55011_row1_col2\" class=\"data row1 col2\" >CT</td>\n",
       "      <td id=\"T_55011_row1_col3\" class=\"data row1 col3\" >C</td>\n",
       "      <td id=\"T_55011_row1_col4\" class=\"data row1 col4\" >0.884687</td>\n",
       "      <td id=\"T_55011_row1_col5\" class=\"data row1 col5\" >0.884687</td>\n",
       "      <td id=\"T_55011_row1_col6\" class=\"data row1 col6\" ><a target=\"_blank\" href=\"https://gnomad.broadinstitute.org/variant/10-113705225-CT-C?dataset=gnomad_r3\">https://gnomad.broadinstitute.org/variant/10-113705225-CT-C?dataset=gnomad_r3</a></td>\n",
       "    </tr>\n",
       "    <tr>\n",
       "      <th id=\"T_55011_level0_row2\" class=\"row_heading level0 row2\" >2</th>\n",
       "      <td id=\"T_55011_row2_col0\" class=\"data row2 col0\" >chr3</td>\n",
       "      <td id=\"T_55011_row2_col1\" class=\"data row2 col1\" >127823218</td>\n",
       "      <td id=\"T_55011_row2_col2\" class=\"data row2 col2\" >T</td>\n",
       "      <td id=\"T_55011_row2_col3\" class=\"data row2 col3\" >C</td>\n",
       "      <td id=\"T_55011_row2_col4\" class=\"data row2 col4\" >0.580372</td>\n",
       "      <td id=\"T_55011_row2_col5\" class=\"data row2 col5\" >0.580372</td>\n",
       "      <td id=\"T_55011_row2_col6\" class=\"data row2 col6\" ><a target=\"_blank\" href=\"https://gnomad.broadinstitute.org/variant/3-127823218-T-C?dataset=gnomad_r3\">https://gnomad.broadinstitute.org/variant/3-127823218-T-C?dataset=gnomad_r3</a></td>\n",
       "    </tr>\n",
       "    <tr>\n",
       "      <th id=\"T_55011_level0_row3\" class=\"row_heading level0 row3\" >3</th>\n",
       "      <td id=\"T_55011_row3_col0\" class=\"data row3 col0\" >chr7</td>\n",
       "      <td id=\"T_55011_row3_col1\" class=\"data row3 col1\" >128454916</td>\n",
       "      <td id=\"T_55011_row3_col2\" class=\"data row3 col2\" >GC</td>\n",
       "      <td id=\"T_55011_row3_col3\" class=\"data row3 col3\" >G</td>\n",
       "      <td id=\"T_55011_row3_col4\" class=\"data row3 col4\" >1.000000</td>\n",
       "      <td id=\"T_55011_row3_col5\" class=\"data row3 col5\" >1.000000</td>\n",
       "      <td id=\"T_55011_row3_col6\" class=\"data row3 col6\" ><a target=\"_blank\" href=\"https://gnomad.broadinstitute.org/variant/7-128454916-GC-G?dataset=gnomad_r3\">https://gnomad.broadinstitute.org/variant/7-128454916-GC-G?dataset=gnomad_r3</a></td>\n",
       "    </tr>\n",
       "    <tr>\n",
       "      <th id=\"T_55011_level0_row4\" class=\"row_heading level0 row4\" >4</th>\n",
       "      <td id=\"T_55011_row4_col0\" class=\"data row4 col0\" >chr20</td>\n",
       "      <td id=\"T_55011_row4_col1\" class=\"data row4 col1\" >22584603</td>\n",
       "      <td id=\"T_55011_row4_col2\" class=\"data row4 col2\" >G</td>\n",
       "      <td id=\"T_55011_row4_col3\" class=\"data row4 col3\" >T</td>\n",
       "      <td id=\"T_55011_row4_col4\" class=\"data row4 col4\" >0.021112</td>\n",
       "      <td id=\"T_55011_row4_col5\" class=\"data row4 col5\" >0.021112</td>\n",
       "      <td id=\"T_55011_row4_col6\" class=\"data row4 col6\" ><a target=\"_blank\" href=\"https://gnomad.broadinstitute.org/variant/20-22584603-G-T?dataset=gnomad_r3\">https://gnomad.broadinstitute.org/variant/20-22584603-G-T?dataset=gnomad_r3</a></td>\n",
       "    </tr>\n",
       "    <tr>\n",
       "      <th id=\"T_55011_level0_row5\" class=\"row_heading level0 row5\" >5</th>\n",
       "      <td id=\"T_55011_row5_col0\" class=\"data row5 col0\" >chr21</td>\n",
       "      <td id=\"T_55011_row5_col1\" class=\"data row5 col1\" >14773987</td>\n",
       "      <td id=\"T_55011_row5_col2\" class=\"data row5 col2\" >A</td>\n",
       "      <td id=\"T_55011_row5_col3\" class=\"data row5 col3\" >C</td>\n",
       "      <td id=\"T_55011_row5_col4\" class=\"data row5 col4\" >0.019832</td>\n",
       "      <td id=\"T_55011_row5_col5\" class=\"data row5 col5\" >0.019832</td>\n",
       "      <td id=\"T_55011_row5_col6\" class=\"data row5 col6\" ><a target=\"_blank\" href=\"https://gnomad.broadinstitute.org/variant/21-14773987-A-C?dataset=gnomad_r3\">https://gnomad.broadinstitute.org/variant/21-14773987-A-C?dataset=gnomad_r3</a></td>\n",
       "    </tr>\n",
       "    <tr>\n",
       "      <th id=\"T_55011_level0_row6\" class=\"row_heading level0 row6\" >6</th>\n",
       "      <td id=\"T_55011_row6_col0\" class=\"data row6 col0\" >chr2</td>\n",
       "      <td id=\"T_55011_row6_col1\" class=\"data row6 col1\" >182867574</td>\n",
       "      <td id=\"T_55011_row6_col2\" class=\"data row6 col2\" >G</td>\n",
       "      <td id=\"T_55011_row6_col3\" class=\"data row6 col3\" >A</td>\n",
       "      <td id=\"T_55011_row6_col4\" class=\"data row6 col4\" >0.019276</td>\n",
       "      <td id=\"T_55011_row6_col5\" class=\"data row6 col5\" >0.019276</td>\n",
       "      <td id=\"T_55011_row6_col6\" class=\"data row6 col6\" ><a target=\"_blank\" href=\"https://gnomad.broadinstitute.org/variant/2-182867574-G-A?dataset=gnomad_r3\">https://gnomad.broadinstitute.org/variant/2-182867574-G-A?dataset=gnomad_r3</a></td>\n",
       "    </tr>\n",
       "    <tr>\n",
       "      <th id=\"T_55011_level0_row7\" class=\"row_heading level0 row7\" >7</th>\n",
       "      <td id=\"T_55011_row7_col0\" class=\"data row7 col0\" >chr6</td>\n",
       "      <td id=\"T_55011_row7_col1\" class=\"data row7 col1\" >56693518</td>\n",
       "      <td id=\"T_55011_row7_col2\" class=\"data row7 col2\" >T</td>\n",
       "      <td id=\"T_55011_row7_col3\" class=\"data row7 col3\" >C</td>\n",
       "      <td id=\"T_55011_row7_col4\" class=\"data row7 col4\" >0.015173</td>\n",
       "      <td id=\"T_55011_row7_col5\" class=\"data row7 col5\" >0.015173</td>\n",
       "      <td id=\"T_55011_row7_col6\" class=\"data row7 col6\" ><a target=\"_blank\" href=\"https://gnomad.broadinstitute.org/variant/6-56693518-T-C?dataset=gnomad_r3\">https://gnomad.broadinstitute.org/variant/6-56693518-T-C?dataset=gnomad_r3</a></td>\n",
       "    </tr>\n",
       "    <tr>\n",
       "      <th id=\"T_55011_level0_row8\" class=\"row_heading level0 row8\" >8</th>\n",
       "      <td id=\"T_55011_row8_col0\" class=\"data row8 col0\" >chr19</td>\n",
       "      <td id=\"T_55011_row8_col1\" class=\"data row8 col1\" >52297546</td>\n",
       "      <td id=\"T_55011_row8_col2\" class=\"data row8 col2\" >A</td>\n",
       "      <td id=\"T_55011_row8_col3\" class=\"data row8 col3\" >G</td>\n",
       "      <td id=\"T_55011_row8_col4\" class=\"data row8 col4\" >0.002209</td>\n",
       "      <td id=\"T_55011_row8_col5\" class=\"data row8 col5\" >0.002209</td>\n",
       "      <td id=\"T_55011_row8_col6\" class=\"data row8 col6\" ><a target=\"_blank\" href=\"https://gnomad.broadinstitute.org/variant/19-52297546-A-G?dataset=gnomad_r3\">https://gnomad.broadinstitute.org/variant/19-52297546-A-G?dataset=gnomad_r3</a></td>\n",
       "    </tr>\n",
       "    <tr>\n",
       "      <th id=\"T_55011_level0_row9\" class=\"row_heading level0 row9\" >9</th>\n",
       "      <td id=\"T_55011_row9_col0\" class=\"data row9 col0\" >chr17</td>\n",
       "      <td id=\"T_55011_row9_col1\" class=\"data row9 col1\" >57507759</td>\n",
       "      <td id=\"T_55011_row9_col2\" class=\"data row9 col2\" >A</td>\n",
       "      <td id=\"T_55011_row9_col3\" class=\"data row9 col3\" >C</td>\n",
       "      <td id=\"T_55011_row9_col4\" class=\"data row9 col4\" >0.863608</td>\n",
       "      <td id=\"T_55011_row9_col5\" class=\"data row9 col5\" >0.863608</td>\n",
       "      <td id=\"T_55011_row9_col6\" class=\"data row9 col6\" ><a target=\"_blank\" href=\"https://gnomad.broadinstitute.org/variant/17-57507759-A-C?dataset=gnomad_r3\">https://gnomad.broadinstitute.org/variant/17-57507759-A-C?dataset=gnomad_r3</a></td>\n",
       "    </tr>\n",
       "  </tbody>\n",
       "</table>\n"
      ],
      "text/plain": [
       "<pandas.io.formats.style.Styler at 0x7f6b08727860>"
      ]
     },
     "execution_count": 4,
     "metadata": {},
     "output_type": "execute_result"
    },
    {
     "data": {
      "image/png": "[encoded data removed]",
      "text/plain": [
       "<Figure size 432x288 with 1 Axes>"
      ]
     },
     "metadata": {
      "needs_background": "light"
     },
     "output_type": "display_data"
    }
   ],
   "source": [
    "sum_both = pd.Series(dtype=np.float64)\n",
    "both = AF_df.dropna()\n",
    "sum_both['total_variants'] = both.shape[0]\n",
    "sum_both['same_AF'] = (both.AF == both.NEW_AF).sum()\n",
    "sum_both['different_AF'] = sum_both.total_variants - sum_both.same_AF\n",
    "display(sum_both)\n",
    "x = sum_both.plot.bar()\n",
    "s = add_gnomAD_link(both.sample(10))\n",
    "print('the table below give a sample of 10 variants which appear in both piple line with link to the variant gnomAD page-')\n",
    "s.drop(columns='index').style.format({'gnomAD': make_clickable})"
   ]
  },
  {
   "cell_type": "markdown",
   "id": "ea914085",
   "metadata": {},
   "source": [
    "Variants which appear in both piplines share the same AF,<br>\n",
    "\n",
    "By manualy looking on gnomAD, it can be seen the values are similar. <br>\n",
    "Therefore I am pleased to say -  **mutral variants have the real gnomAD values in both piplines**\n",
    "\n",
    "### Only in current table\n",
    "The following will look into variants which appear in chromosomes which finished the new pipline without errors **BUT** only appear in the current table"
   ]
  },
  {
   "cell_type": "code",
   "execution_count": 5,
   "id": "052c294f",
   "metadata": {},
   "outputs": [
    {
     "data": {
      "text/plain": [
       "total_variants    7987\n",
       "dtype: int64"
      ]
     },
     "metadata": {},
     "output_type": "display_data"
    },
    {
     "name": "stdout",
     "output_type": "stream",
     "text": [
      "sample of 10 variants which appear only in current pipeline results\n"
     ]
    },
    {
     "data": {
      "text/html": [
       "<style type=\"text/css\">\n",
       "</style>\n",
       "<table id=\"T_2b176_\">\n",
       "  <thead>\n",
       "    <tr>\n",
       "      <th class=\"blank level0\" >&nbsp;</th>\n",
       "      <th class=\"col_heading level0 col0\" >CHROM</th>\n",
       "      <th class=\"col_heading level0 col1\" >POS</th>\n",
       "      <th class=\"col_heading level0 col2\" >REF</th>\n",
       "      <th class=\"col_heading level0 col3\" >ALT</th>\n",
       "      <th class=\"col_heading level0 col4\" >AF</th>\n",
       "      <th class=\"col_heading level0 col5\" >NEW_AF</th>\n",
       "      <th class=\"col_heading level0 col6\" >gnomAD</th>\n",
       "    </tr>\n",
       "  </thead>\n",
       "  <tbody>\n",
       "    <tr>\n",
       "      <th id=\"T_2b176_level0_row0\" class=\"row_heading level0 row0\" >0</th>\n",
       "      <td id=\"T_2b176_row0_col0\" class=\"data row0 col0\" >chr17</td>\n",
       "      <td id=\"T_2b176_row0_col1\" class=\"data row0 col1\" >48619223</td>\n",
       "      <td id=\"T_2b176_row0_col2\" class=\"data row0 col2\" >AGTGT...</td>\n",
       "      <td id=\"T_2b176_row0_col3\" class=\"data row0 col3\" >A,AGT</td>\n",
       "      <td id=\"T_2b176_row0_col4\" class=\"data row0 col4\" >0.133981</td>\n",
       "      <td id=\"T_2b176_row0_col5\" class=\"data row0 col5\" >nan</td>\n",
       "      <td id=\"T_2b176_row0_col6\" class=\"data row0 col6\" ><a target=\"_blank\" href=\"https://gnomad.broadinstitute.org/variant/17-48619223-AGTGTGT-A,AGT?dataset=gnomad_r3\">https://gnomad.broadinstitute.org/variant/17-48619223-AGTGTGT-A,AGT?dataset=gnomad_r3</a></td>\n",
       "    </tr>\n",
       "    <tr>\n",
       "      <th id=\"T_2b176_level0_row1\" class=\"row_heading level0 row1\" >1</th>\n",
       "      <td id=\"T_2b176_row1_col0\" class=\"data row1 col0\" >chr7</td>\n",
       "      <td id=\"T_2b176_row1_col1\" class=\"data row1 col1\" >100965955</td>\n",
       "      <td id=\"T_2b176_row1_col2\" class=\"data row1 col2\" >G</td>\n",
       "      <td id=\"T_2b176_row1_col3\" class=\"data row1 col3\" >C</td>\n",
       "      <td id=\"T_2b176_row1_col4\" class=\"data row1 col4\" >0.499961</td>\n",
       "      <td id=\"T_2b176_row1_col5\" class=\"data row1 col5\" >nan</td>\n",
       "      <td id=\"T_2b176_row1_col6\" class=\"data row1 col6\" ><a target=\"_blank\" href=\"https://gnomad.broadinstitute.org/variant/7-100965955-G-C?dataset=gnomad_r3\">https://gnomad.broadinstitute.org/variant/7-100965955-G-C?dataset=gnomad_r3</a></td>\n",
       "    </tr>\n",
       "    <tr>\n",
       "      <th id=\"T_2b176_level0_row2\" class=\"row_heading level0 row2\" >2</th>\n",
       "      <td id=\"T_2b176_row2_col0\" class=\"data row2 col0\" >chrX</td>\n",
       "      <td id=\"T_2b176_row2_col1\" class=\"data row2 col1\" >154762222</td>\n",
       "      <td id=\"T_2b176_row2_col2\" class=\"data row2 col2\" >CA</td>\n",
       "      <td id=\"T_2b176_row2_col3\" class=\"data row2 col3\" >C</td>\n",
       "      <td id=\"T_2b176_row2_col4\" class=\"data row2 col4\" >0.978989</td>\n",
       "      <td id=\"T_2b176_row2_col5\" class=\"data row2 col5\" >nan</td>\n",
       "      <td id=\"T_2b176_row2_col6\" class=\"data row2 col6\" ><a target=\"_blank\" href=\"https://gnomad.broadinstitute.org/variant/X-154762222-CA-C?dataset=gnomad_r3\">https://gnomad.broadinstitute.org/variant/X-154762222-CA-C?dataset=gnomad_r3</a></td>\n",
       "    </tr>\n",
       "    <tr>\n",
       "      <th id=\"T_2b176_level0_row3\" class=\"row_heading level0 row3\" >3</th>\n",
       "      <td id=\"T_2b176_row3_col0\" class=\"data row3 col0\" >chr3</td>\n",
       "      <td id=\"T_2b176_row3_col1\" class=\"data row3 col1\" >184582277</td>\n",
       "      <td id=\"T_2b176_row3_col2\" class=\"data row3 col2\" >TGCGC</td>\n",
       "      <td id=\"T_2b176_row3_col3\" class=\"data row3 col3\" >*,T</td>\n",
       "      <td id=\"T_2b176_row3_col4\" class=\"data row3 col4\" >0.000017</td>\n",
       "      <td id=\"T_2b176_row3_col5\" class=\"data row3 col5\" >nan</td>\n",
       "      <td id=\"T_2b176_row3_col6\" class=\"data row3 col6\" ><a target=\"_blank\" href=\"https://gnomad.broadinstitute.org/variant/3-184582277-TGCGC-*,T?dataset=gnomad_r3\">https://gnomad.broadinstitute.org/variant/3-184582277-TGCGC-*,T?dataset=gnomad_r3</a></td>\n",
       "    </tr>\n",
       "    <tr>\n",
       "      <th id=\"T_2b176_level0_row4\" class=\"row_heading level0 row4\" >4</th>\n",
       "      <td id=\"T_2b176_row4_col0\" class=\"data row4 col0\" >chr6</td>\n",
       "      <td id=\"T_2b176_row4_col1\" class=\"data row4 col1\" >32664576</td>\n",
       "      <td id=\"T_2b176_row4_col2\" class=\"data row4 col2\" >G</td>\n",
       "      <td id=\"T_2b176_row4_col3\" class=\"data row4 col3\" >*,C</td>\n",
       "      <td id=\"T_2b176_row4_col4\" class=\"data row4 col4\" >0.180974</td>\n",
       "      <td id=\"T_2b176_row4_col5\" class=\"data row4 col5\" >nan</td>\n",
       "      <td id=\"T_2b176_row4_col6\" class=\"data row4 col6\" ><a target=\"_blank\" href=\"https://gnomad.broadinstitute.org/variant/6-32664576-G-*,C?dataset=gnomad_r3\">https://gnomad.broadinstitute.org/variant/6-32664576-G-*,C?dataset=gnomad_r3</a></td>\n",
       "    </tr>\n",
       "    <tr>\n",
       "      <th id=\"T_2b176_level0_row5\" class=\"row_heading level0 row5\" >5</th>\n",
       "      <td id=\"T_2b176_row5_col0\" class=\"data row5 col0\" >chr12</td>\n",
       "      <td id=\"T_2b176_row5_col1\" class=\"data row5 col1\" >57893471</td>\n",
       "      <td id=\"T_2b176_row5_col2\" class=\"data row5 col2\" >G</td>\n",
       "      <td id=\"T_2b176_row5_col3\" class=\"data row5 col3\" >A,C</td>\n",
       "      <td id=\"T_2b176_row5_col4\" class=\"data row5 col4\" >0.143681</td>\n",
       "      <td id=\"T_2b176_row5_col5\" class=\"data row5 col5\" >nan</td>\n",
       "      <td id=\"T_2b176_row5_col6\" class=\"data row5 col6\" ><a target=\"_blank\" href=\"https://gnomad.broadinstitute.org/variant/12-57893471-G-A,C?dataset=gnomad_r3\">https://gnomad.broadinstitute.org/variant/12-57893471-G-A,C?dataset=gnomad_r3</a></td>\n",
       "    </tr>\n",
       "    <tr>\n",
       "      <th id=\"T_2b176_level0_row6\" class=\"row_heading level0 row6\" >6</th>\n",
       "      <td id=\"T_2b176_row6_col0\" class=\"data row6 col0\" >chr3</td>\n",
       "      <td id=\"T_2b176_row6_col1\" class=\"data row6 col1\" >194168498</td>\n",
       "      <td id=\"T_2b176_row6_col2\" class=\"data row6 col2\" >GGT</td>\n",
       "      <td id=\"T_2b176_row6_col3\" class=\"data row6 col3\" >G,GGT...</td>\n",
       "      <td id=\"T_2b176_row6_col4\" class=\"data row6 col4\" >0.109878</td>\n",
       "      <td id=\"T_2b176_row6_col5\" class=\"data row6 col5\" >nan</td>\n",
       "      <td id=\"T_2b176_row6_col6\" class=\"data row6 col6\" ><a target=\"_blank\" href=\"https://gnomad.broadinstitute.org/variant/3-194168498-GGT-G,GGTGT?dataset=gnomad_r3\">https://gnomad.broadinstitute.org/variant/3-194168498-GGT-G,GGTGT?dataset=gnomad_r3</a></td>\n",
       "    </tr>\n",
       "    <tr>\n",
       "      <th id=\"T_2b176_level0_row7\" class=\"row_heading level0 row7\" >7</th>\n",
       "      <td id=\"T_2b176_row7_col0\" class=\"data row7 col0\" >chr15</td>\n",
       "      <td id=\"T_2b176_row7_col1\" class=\"data row7 col1\" >63324687</td>\n",
       "      <td id=\"T_2b176_row7_col2\" class=\"data row7 col2\" >AT</td>\n",
       "      <td id=\"T_2b176_row7_col3\" class=\"data row7 col3\" >A,ATT...</td>\n",
       "      <td id=\"T_2b176_row7_col4\" class=\"data row7 col4\" >0.045235</td>\n",
       "      <td id=\"T_2b176_row7_col5\" class=\"data row7 col5\" >nan</td>\n",
       "      <td id=\"T_2b176_row7_col6\" class=\"data row7 col6\" ><a target=\"_blank\" href=\"https://gnomad.broadinstitute.org/variant/15-63324687-AT-A,ATTTT?dataset=gnomad_r3\">https://gnomad.broadinstitute.org/variant/15-63324687-AT-A,ATTTT?dataset=gnomad_r3</a></td>\n",
       "    </tr>\n",
       "    <tr>\n",
       "      <th id=\"T_2b176_level0_row8\" class=\"row_heading level0 row8\" >8</th>\n",
       "      <td id=\"T_2b176_row8_col0\" class=\"data row8 col0\" >chr10</td>\n",
       "      <td id=\"T_2b176_row8_col1\" class=\"data row8 col1\" >125895996</td>\n",
       "      <td id=\"T_2b176_row8_col2\" class=\"data row8 col2\" >C</td>\n",
       "      <td id=\"T_2b176_row8_col3\" class=\"data row8 col3\" >A</td>\n",
       "      <td id=\"T_2b176_row8_col4\" class=\"data row8 col4\" >0.473934</td>\n",
       "      <td id=\"T_2b176_row8_col5\" class=\"data row8 col5\" >nan</td>\n",
       "      <td id=\"T_2b176_row8_col6\" class=\"data row8 col6\" ><a target=\"_blank\" href=\"https://gnomad.broadinstitute.org/variant/10-125895996-C-A?dataset=gnomad_r3\">https://gnomad.broadinstitute.org/variant/10-125895996-C-A?dataset=gnomad_r3</a></td>\n",
       "    </tr>\n",
       "    <tr>\n",
       "      <th id=\"T_2b176_level0_row9\" class=\"row_heading level0 row9\" >9</th>\n",
       "      <td id=\"T_2b176_row9_col0\" class=\"data row9 col0\" >chr9</td>\n",
       "      <td id=\"T_2b176_row9_col1\" class=\"data row9 col1\" >62801167</td>\n",
       "      <td id=\"T_2b176_row9_col2\" class=\"data row9 col2\" >C</td>\n",
       "      <td id=\"T_2b176_row9_col3\" class=\"data row9 col3\" >T</td>\n",
       "      <td id=\"T_2b176_row9_col4\" class=\"data row9 col4\" >0.499544</td>\n",
       "      <td id=\"T_2b176_row9_col5\" class=\"data row9 col5\" >nan</td>\n",
       "      <td id=\"T_2b176_row9_col6\" class=\"data row9 col6\" ><a target=\"_blank\" href=\"https://gnomad.broadinstitute.org/variant/9-62801167-C-T?dataset=gnomad_r3\">https://gnomad.broadinstitute.org/variant/9-62801167-C-T?dataset=gnomad_r3</a></td>\n",
       "    </tr>\n",
       "  </tbody>\n",
       "</table>\n"
      ],
      "text/plain": [
       "<pandas.io.formats.style.Styler at 0x7f6b08717eb8>"
      ]
     },
     "execution_count": 5,
     "metadata": {},
     "output_type": "execute_result"
    },
    {
     "data": {
      "image/png": "[encoded data removed]",
      "text/plain": [
       "<Figure size 432x288 with 1 Axes>"
      ]
     },
     "metadata": {
      "needs_background": "light"
     },
     "output_type": "display_data"
    }
   ],
   "source": [
    "sum_current = pd.Series(dtype=np.float64)\n",
    "only_current = AF_df[AF_df.AF.notna() & AF_df.NEW_AF.isna() ]\n",
    "sum_current['total_variants'] = only_current.shape[0]\n",
    "display(sum_current)\n",
    "x = sum_current.plot.bar()\n",
    "s = add_gnomAD_link(only_current.sample(10))\n",
    "print(\"sample of 10 variants which appear only in current pipeline results\")\n",
    "s.drop(columns='index').style.format({'gnomAD': make_clickable})"
   ]
  },
  {
   "cell_type": "markdown",
   "id": "689acf48",
   "metadata": {},
   "source": [
    "There are 7987 variants which appear only in the current table. <br>\n",
    "As it seems, some of them look wierd, and there is no data on them in gnomAD webstie. While variants which appears in gnomAD, does not pass the quality control. ( FILTER != PASS ) \n",
    "\n",
    "## UPDATE 6/3\n",
    "\n",
    "It looks some variants appear on the old fule but not on the new\n",
    "\n",
    "### Only new pipleline variant\n",
    "\n",
    "now I'll look on variants which appear only in the new pipleline results"
   ]
  },
  {
   "cell_type": "code",
   "execution_count": 6,
   "id": "0885f126",
   "metadata": {},
   "outputs": [
    {
     "data": {
      "text/plain": [
       "total_variants    22542704\n",
       "dtype: int64"
      ]
     },
     "metadata": {},
     "output_type": "display_data"
    },
    {
     "name": "stdout",
     "output_type": "stream",
     "text": [
      "sample of 10 variants which appear only in new pipeline results\n"
     ]
    },
    {
     "data": {
      "text/html": [
       "<style type=\"text/css\">\n",
       "</style>\n",
       "<table id=\"T_23536_\">\n",
       "  <thead>\n",
       "    <tr>\n",
       "      <th class=\"blank level0\" >&nbsp;</th>\n",
       "      <th class=\"col_heading level0 col0\" >CHROM</th>\n",
       "      <th class=\"col_heading level0 col1\" >POS</th>\n",
       "      <th class=\"col_heading level0 col2\" >REF</th>\n",
       "      <th class=\"col_heading level0 col3\" >ALT</th>\n",
       "      <th class=\"col_heading level0 col4\" >AF</th>\n",
       "      <th class=\"col_heading level0 col5\" >NEW_AF</th>\n",
       "      <th class=\"col_heading level0 col6\" >gnomAD</th>\n",
       "    </tr>\n",
       "  </thead>\n",
       "  <tbody>\n",
       "    <tr>\n",
       "      <th id=\"T_23536_level0_row0\" class=\"row_heading level0 row0\" >0</th>\n",
       "      <td id=\"T_23536_row0_col0\" class=\"data row0 col0\" >chr12</td>\n",
       "      <td id=\"T_23536_row0_col1\" class=\"data row0 col1\" >67543066</td>\n",
       "      <td id=\"T_23536_row0_col2\" class=\"data row0 col2\" >A</td>\n",
       "      <td id=\"T_23536_row0_col3\" class=\"data row0 col3\" >AGAAT...</td>\n",
       "      <td id=\"T_23536_row0_col4\" class=\"data row0 col4\" >nan</td>\n",
       "      <td id=\"T_23536_row0_col5\" class=\"data row0 col5\" >0.000118</td>\n",
       "      <td id=\"T_23536_row0_col6\" class=\"data row0 col6\" ><a target=\"_blank\" href=\"https://gnomad.broadinstitute.org/variant/12-67543066-A-AGAATCCT?dataset=gnomad_r3\">https://gnomad.broadinstitute.org/variant/12-67543066-A-AGAATCCT?dataset=gnomad_r3</a></td>\n",
       "    </tr>\n",
       "    <tr>\n",
       "      <th id=\"T_23536_level0_row1\" class=\"row_heading level0 row1\" >1</th>\n",
       "      <td id=\"T_23536_row1_col0\" class=\"data row1 col0\" >chr20</td>\n",
       "      <td id=\"T_23536_row1_col1\" class=\"data row1 col1\" >39524461</td>\n",
       "      <td id=\"T_23536_row1_col2\" class=\"data row1 col2\" >A</td>\n",
       "      <td id=\"T_23536_row1_col3\" class=\"data row1 col3\" >T</td>\n",
       "      <td id=\"T_23536_row1_col4\" class=\"data row1 col4\" >nan</td>\n",
       "      <td id=\"T_23536_row1_col5\" class=\"data row1 col5\" >0.000007</td>\n",
       "      <td id=\"T_23536_row1_col6\" class=\"data row1 col6\" ><a target=\"_blank\" href=\"https://gnomad.broadinstitute.org/variant/20-39524461-A-T?dataset=gnomad_r3\">https://gnomad.broadinstitute.org/variant/20-39524461-A-T?dataset=gnomad_r3</a></td>\n",
       "    </tr>\n",
       "    <tr>\n",
       "      <th id=\"T_23536_level0_row2\" class=\"row_heading level0 row2\" >2</th>\n",
       "      <td id=\"T_23536_row2_col0\" class=\"data row2 col0\" >chr2</td>\n",
       "      <td id=\"T_23536_row2_col1\" class=\"data row2 col1\" >112482323</td>\n",
       "      <td id=\"T_23536_row2_col2\" class=\"data row2 col2\" >C</td>\n",
       "      <td id=\"T_23536_row2_col3\" class=\"data row2 col3\" >T</td>\n",
       "      <td id=\"T_23536_row2_col4\" class=\"data row2 col4\" >nan</td>\n",
       "      <td id=\"T_23536_row2_col5\" class=\"data row2 col5\" >0.000007</td>\n",
       "      <td id=\"T_23536_row2_col6\" class=\"data row2 col6\" ><a target=\"_blank\" href=\"https://gnomad.broadinstitute.org/variant/2-112482323-C-T?dataset=gnomad_r3\">https://gnomad.broadinstitute.org/variant/2-112482323-C-T?dataset=gnomad_r3</a></td>\n",
       "    </tr>\n",
       "    <tr>\n",
       "      <th id=\"T_23536_level0_row3\" class=\"row_heading level0 row3\" >3</th>\n",
       "      <td id=\"T_23536_row3_col0\" class=\"data row3 col0\" >chr1</td>\n",
       "      <td id=\"T_23536_row3_col1\" class=\"data row3 col1\" >90177380</td>\n",
       "      <td id=\"T_23536_row3_col2\" class=\"data row3 col2\" >T</td>\n",
       "      <td id=\"T_23536_row3_col3\" class=\"data row3 col3\" >TA</td>\n",
       "      <td id=\"T_23536_row3_col4\" class=\"data row3 col4\" >nan</td>\n",
       "      <td id=\"T_23536_row3_col5\" class=\"data row3 col5\" >0.000383</td>\n",
       "      <td id=\"T_23536_row3_col6\" class=\"data row3 col6\" ><a target=\"_blank\" href=\"https://gnomad.broadinstitute.org/variant/1-90177380-T-TA?dataset=gnomad_r3\">https://gnomad.broadinstitute.org/variant/1-90177380-T-TA?dataset=gnomad_r3</a></td>\n",
       "    </tr>\n",
       "    <tr>\n",
       "      <th id=\"T_23536_level0_row4\" class=\"row_heading level0 row4\" >4</th>\n",
       "      <td id=\"T_23536_row4_col0\" class=\"data row4 col0\" >chr1</td>\n",
       "      <td id=\"T_23536_row4_col1\" class=\"data row4 col1\" >27872479</td>\n",
       "      <td id=\"T_23536_row4_col2\" class=\"data row4 col2\" >C</td>\n",
       "      <td id=\"T_23536_row4_col3\" class=\"data row4 col3\" >T</td>\n",
       "      <td id=\"T_23536_row4_col4\" class=\"data row4 col4\" >nan</td>\n",
       "      <td id=\"T_23536_row4_col5\" class=\"data row4 col5\" >0.000008</td>\n",
       "      <td id=\"T_23536_row4_col6\" class=\"data row4 col6\" ><a target=\"_blank\" href=\"https://gnomad.broadinstitute.org/variant/1-27872479-C-T?dataset=gnomad_r3\">https://gnomad.broadinstitute.org/variant/1-27872479-C-T?dataset=gnomad_r3</a></td>\n",
       "    </tr>\n",
       "    <tr>\n",
       "      <th id=\"T_23536_level0_row5\" class=\"row_heading level0 row5\" >5</th>\n",
       "      <td id=\"T_23536_row5_col0\" class=\"data row5 col0\" >chr7</td>\n",
       "      <td id=\"T_23536_row5_col1\" class=\"data row5 col1\" >134892070</td>\n",
       "      <td id=\"T_23536_row5_col2\" class=\"data row5 col2\" >C</td>\n",
       "      <td id=\"T_23536_row5_col3\" class=\"data row5 col3\" >G</td>\n",
       "      <td id=\"T_23536_row5_col4\" class=\"data row5 col4\" >nan</td>\n",
       "      <td id=\"T_23536_row5_col5\" class=\"data row5 col5\" >0.000013</td>\n",
       "      <td id=\"T_23536_row5_col6\" class=\"data row5 col6\" ><a target=\"_blank\" href=\"https://gnomad.broadinstitute.org/variant/7-134892070-C-G?dataset=gnomad_r3\">https://gnomad.broadinstitute.org/variant/7-134892070-C-G?dataset=gnomad_r3</a></td>\n",
       "    </tr>\n",
       "    <tr>\n",
       "      <th id=\"T_23536_level0_row6\" class=\"row_heading level0 row6\" >6</th>\n",
       "      <td id=\"T_23536_row6_col0\" class=\"data row6 col0\" >chr9</td>\n",
       "      <td id=\"T_23536_row6_col1\" class=\"data row6 col1\" >37985411</td>\n",
       "      <td id=\"T_23536_row6_col2\" class=\"data row6 col2\" >C</td>\n",
       "      <td id=\"T_23536_row6_col3\" class=\"data row6 col3\" >T</td>\n",
       "      <td id=\"T_23536_row6_col4\" class=\"data row6 col4\" >nan</td>\n",
       "      <td id=\"T_23536_row6_col5\" class=\"data row6 col5\" >0.000033</td>\n",
       "      <td id=\"T_23536_row6_col6\" class=\"data row6 col6\" ><a target=\"_blank\" href=\"https://gnomad.broadinstitute.org/variant/9-37985411-C-T?dataset=gnomad_r3\">https://gnomad.broadinstitute.org/variant/9-37985411-C-T?dataset=gnomad_r3</a></td>\n",
       "    </tr>\n",
       "    <tr>\n",
       "      <th id=\"T_23536_level0_row7\" class=\"row_heading level0 row7\" >7</th>\n",
       "      <td id=\"T_23536_row7_col0\" class=\"data row7 col0\" >chr9</td>\n",
       "      <td id=\"T_23536_row7_col1\" class=\"data row7 col1\" >126631508</td>\n",
       "      <td id=\"T_23536_row7_col2\" class=\"data row7 col2\" >C</td>\n",
       "      <td id=\"T_23536_row7_col3\" class=\"data row7 col3\" >T</td>\n",
       "      <td id=\"T_23536_row7_col4\" class=\"data row7 col4\" >nan</td>\n",
       "      <td id=\"T_23536_row7_col5\" class=\"data row7 col5\" >0.000033</td>\n",
       "      <td id=\"T_23536_row7_col6\" class=\"data row7 col6\" ><a target=\"_blank\" href=\"https://gnomad.broadinstitute.org/variant/9-126631508-C-T?dataset=gnomad_r3\">https://gnomad.broadinstitute.org/variant/9-126631508-C-T?dataset=gnomad_r3</a></td>\n",
       "    </tr>\n",
       "    <tr>\n",
       "      <th id=\"T_23536_level0_row8\" class=\"row_heading level0 row8\" >8</th>\n",
       "      <td id=\"T_23536_row8_col0\" class=\"data row8 col0\" >chr3</td>\n",
       "      <td id=\"T_23536_row8_col1\" class=\"data row8 col1\" >128165223</td>\n",
       "      <td id=\"T_23536_row8_col2\" class=\"data row8 col2\" >G</td>\n",
       "      <td id=\"T_23536_row8_col3\" class=\"data row8 col3\" >T</td>\n",
       "      <td id=\"T_23536_row8_col4\" class=\"data row8 col4\" >nan</td>\n",
       "      <td id=\"T_23536_row8_col5\" class=\"data row8 col5\" >0.000007</td>\n",
       "      <td id=\"T_23536_row8_col6\" class=\"data row8 col6\" ><a target=\"_blank\" href=\"https://gnomad.broadinstitute.org/variant/3-128165223-G-T?dataset=gnomad_r3\">https://gnomad.broadinstitute.org/variant/3-128165223-G-T?dataset=gnomad_r3</a></td>\n",
       "    </tr>\n",
       "    <tr>\n",
       "      <th id=\"T_23536_level0_row9\" class=\"row_heading level0 row9\" >9</th>\n",
       "      <td id=\"T_23536_row9_col0\" class=\"data row9 col0\" >chr8</td>\n",
       "      <td id=\"T_23536_row9_col1\" class=\"data row9 col1\" >80578463</td>\n",
       "      <td id=\"T_23536_row9_col2\" class=\"data row9 col2\" >C</td>\n",
       "      <td id=\"T_23536_row9_col3\" class=\"data row9 col3\" >T</td>\n",
       "      <td id=\"T_23536_row9_col4\" class=\"data row9 col4\" >nan</td>\n",
       "      <td id=\"T_23536_row9_col5\" class=\"data row9 col5\" >0.000007</td>\n",
       "      <td id=\"T_23536_row9_col6\" class=\"data row9 col6\" ><a target=\"_blank\" href=\"https://gnomad.broadinstitute.org/variant/8-80578463-C-T?dataset=gnomad_r3\">https://gnomad.broadinstitute.org/variant/8-80578463-C-T?dataset=gnomad_r3</a></td>\n",
       "    </tr>\n",
       "  </tbody>\n",
       "</table>\n"
      ],
      "text/plain": [
       "<pandas.io.formats.style.Styler at 0x7f6b08071a20>"
      ]
     },
     "execution_count": 6,
     "metadata": {},
     "output_type": "execute_result"
    },
    {
     "data": {
      "image/png": "[encoded data removed]",
      "text/plain": [
       "<Figure size 432x288 with 1 Axes>"
      ]
     },
     "metadata": {
      "needs_background": "light"
     },
     "output_type": "display_data"
    }
   ],
   "source": [
    "sum_new = pd.Series(dtype=np.float64)\n",
    "only_new = AF_df[AF_df.AF.isna() & AF_df.NEW_AF.notna() ]\n",
    "sum_new['total_variants'] = only_new.shape[0]\n",
    "display(sum_new)\n",
    "x = sum_new.plot.bar()\n",
    "s = add_gnomAD_link(only_new.sample(10))\n",
    "print(\"sample of 10 variants which appear only in new pipeline results\")\n",
    "s.drop(columns='index').style.format({'gnomAD': make_clickable})"
   ]
  },
  {
   "cell_type": "markdown",
   "id": "86005d58",
   "metadata": {},
   "source": [
    "It looks the AF numbers are same to gnomAD and the filter passed <br>\n",
    "By that, I conclude we should use the new pipleline result.  <br>\n",
    "I already started to run the pipline again on the missing chromosmes.<br>\n",
    "\n",
    "Shabat Shalom, Ido"
   ]
  },
  {
   "cell_type": "code",
   "execution_count": 42,
   "id": "3a078902",
   "metadata": {},
   "outputs": [],
   "source": [
    "\n",
    "# new_af.columns = ['AF']\n",
    "new_af.sort_index().to_parquet('data/gnomAD_AF.prq')"
   ]
  },
  {
   "cell_type": "code",
   "execution_count": null,
   "id": "17dd6e70",
   "metadata": {},
   "outputs": [],
   "source": [
    "current_df.loc[new_af[new_af.AF < 0.01].index]"
   ]
  }
 ],
 "metadata": {
  "kernelspec": {
   "display_name": "dev-venv",
   "language": "python",
   "name": "dev-venv"
  },
  "language_info": {
   "codemirror_mode": {
    "name": "ipython",
    "version": 3
   },
   "file_extension": ".py",
   "mimetype": "text/x-python",
   "name": "python",
   "nbconvert_exporter": "python",
   "pygments_lexer": "ipython3",
   "version": "3.7.3"
  }
 },
 "nbformat": 4,
 "nbformat_minor": 5
}
